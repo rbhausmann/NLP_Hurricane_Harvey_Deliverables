{
 "cells": [
  {
   "cell_type": "code",
   "execution_count": 1,
   "id": "9145059d",
   "metadata": {},
   "outputs": [],
   "source": [
    "import pandas as pd\n",
    "import nltk\n",
    "import re\n",
    "import string"
   ]
  },
  {
   "cell_type": "code",
   "execution_count": 2,
   "id": "70cc0534",
   "metadata": {},
   "outputs": [],
   "source": [
    "HH_Tweets = pd.read_csv('Hurricane_Harvey.csv')"
   ]
  },
  {
   "cell_type": "code",
   "execution_count": 3,
   "id": "3d0cd9d4",
   "metadata": {},
   "outputs": [
    {
     "data": {
      "text/html": [
       "<div>\n",
       "<style scoped>\n",
       "    .dataframe tbody tr th:only-of-type {\n",
       "        vertical-align: middle;\n",
       "    }\n",
       "\n",
       "    .dataframe tbody tr th {\n",
       "        vertical-align: top;\n",
       "    }\n",
       "\n",
       "    .dataframe thead th {\n",
       "        text-align: right;\n",
       "    }\n",
       "</style>\n",
       "<table border=\"1\" class=\"dataframe\">\n",
       "  <thead>\n",
       "    <tr style=\"text-align: right;\">\n",
       "      <th></th>\n",
       "      <th>Unnamed: 0</th>\n",
       "      <th>ID</th>\n",
       "      <th>Likes</th>\n",
       "      <th>Replies</th>\n",
       "      <th>Retweets</th>\n",
       "      <th>Time</th>\n",
       "      <th>Tweet</th>\n",
       "    </tr>\n",
       "  </thead>\n",
       "  <tbody>\n",
       "    <tr>\n",
       "      <th>0</th>\n",
       "      <td>0.0</td>\n",
       "      <td>9.010000e+17</td>\n",
       "      <td>3.0</td>\n",
       "      <td>0.0</td>\n",
       "      <td>0.0</td>\n",
       "      <td>8/25/2017 14:44</td>\n",
       "      <td>If you do decide to drive in for #ColdplayHous...</td>\n",
       "    </tr>\n",
       "    <tr>\n",
       "      <th>1</th>\n",
       "      <td>1.0</td>\n",
       "      <td>9.010000e+17</td>\n",
       "      <td>0.0</td>\n",
       "      <td>0.0</td>\n",
       "      <td>0.0</td>\n",
       "      <td>8/25/2017 14:44</td>\n",
       "      <td>As Hurricane Harvey is fast approaching, now i...</td>\n",
       "    </tr>\n",
       "    <tr>\n",
       "      <th>2</th>\n",
       "      <td>2.0</td>\n",
       "      <td>9.010000e+17</td>\n",
       "      <td>6.0</td>\n",
       "      <td>0.0</td>\n",
       "      <td>1.0</td>\n",
       "      <td>8/25/2017 14:44</td>\n",
       "      <td>Is @JerryJordan_KTT providing live #HurricaneH...</td>\n",
       "    </tr>\n",
       "    <tr>\n",
       "      <th>3</th>\n",
       "      <td>3.0</td>\n",
       "      <td>9.010000e+17</td>\n",
       "      <td>0.0</td>\n",
       "      <td>0.0</td>\n",
       "      <td>0.0</td>\n",
       "      <td>8/25/2017 14:44</td>\n",
       "      <td>I'm waiting for a Steve Harvey Hurricane meme</td>\n",
       "    </tr>\n",
       "    <tr>\n",
       "      <th>4</th>\n",
       "      <td>4.0</td>\n",
       "      <td>9.010000e+17</td>\n",
       "      <td>0.0</td>\n",
       "      <td>0.0</td>\n",
       "      <td>0.0</td>\n",
       "      <td>8/25/2017 14:44</td>\n",
       "      <td>The name of the hurricane is Harvey ... Steve ...</td>\n",
       "    </tr>\n",
       "  </tbody>\n",
       "</table>\n",
       "</div>"
      ],
      "text/plain": [
       "   Unnamed: 0            ID  Likes  Replies  Retweets             Time  \\\n",
       "0         0.0  9.010000e+17    3.0      0.0       0.0  8/25/2017 14:44   \n",
       "1         1.0  9.010000e+17    0.0      0.0       0.0  8/25/2017 14:44   \n",
       "2         2.0  9.010000e+17    6.0      0.0       1.0  8/25/2017 14:44   \n",
       "3         3.0  9.010000e+17    0.0      0.0       0.0  8/25/2017 14:44   \n",
       "4         4.0  9.010000e+17    0.0      0.0       0.0  8/25/2017 14:44   \n",
       "\n",
       "                                               Tweet  \n",
       "0  If you do decide to drive in for #ColdplayHous...  \n",
       "1  As Hurricane Harvey is fast approaching, now i...  \n",
       "2  Is @JerryJordan_KTT providing live #HurricaneH...  \n",
       "3      I'm waiting for a Steve Harvey Hurricane meme  \n",
       "4  The name of the hurricane is Harvey ... Steve ...  "
      ]
     },
     "execution_count": 3,
     "metadata": {},
     "output_type": "execute_result"
    }
   ],
   "source": [
    "HH_Tweets.head()"
   ]
  },
  {
   "cell_type": "code",
   "execution_count": 4,
   "id": "b24d3000",
   "metadata": {},
   "outputs": [
    {
     "data": {
      "text/plain": [
       "399406"
      ]
     },
     "execution_count": 4,
     "metadata": {},
     "output_type": "execute_result"
    }
   ],
   "source": [
    "# There are 399,406 reviews in the dataset\n",
    "len(HH_Tweets)"
   ]
  },
  {
   "cell_type": "code",
   "execution_count": 5,
   "id": "720e3675",
   "metadata": {},
   "outputs": [],
   "source": [
    "# Remove all columns except for Time and Tweet\n",
    "Hurricane_Tweets = HH_Tweets.drop(['Unnamed: 0','ID','Likes','Replies','Retweets','Time'], axis=1)"
   ]
  },
  {
   "cell_type": "code",
   "execution_count": 6,
   "id": "f804eb6e",
   "metadata": {},
   "outputs": [
    {
     "data": {
      "text/html": [
       "<div>\n",
       "<style scoped>\n",
       "    .dataframe tbody tr th:only-of-type {\n",
       "        vertical-align: middle;\n",
       "    }\n",
       "\n",
       "    .dataframe tbody tr th {\n",
       "        vertical-align: top;\n",
       "    }\n",
       "\n",
       "    .dataframe thead th {\n",
       "        text-align: right;\n",
       "    }\n",
       "</style>\n",
       "<table border=\"1\" class=\"dataframe\">\n",
       "  <thead>\n",
       "    <tr style=\"text-align: right;\">\n",
       "      <th></th>\n",
       "      <th>Tweet</th>\n",
       "    </tr>\n",
       "  </thead>\n",
       "  <tbody>\n",
       "    <tr>\n",
       "      <th>0</th>\n",
       "      <td>If you do decide to drive in for #ColdplayHous...</td>\n",
       "    </tr>\n",
       "    <tr>\n",
       "      <th>1</th>\n",
       "      <td>As Hurricane Harvey is fast approaching, now i...</td>\n",
       "    </tr>\n",
       "    <tr>\n",
       "      <th>2</th>\n",
       "      <td>Is @JerryJordan_KTT providing live #HurricaneH...</td>\n",
       "    </tr>\n",
       "    <tr>\n",
       "      <th>3</th>\n",
       "      <td>I'm waiting for a Steve Harvey Hurricane meme</td>\n",
       "    </tr>\n",
       "    <tr>\n",
       "      <th>4</th>\n",
       "      <td>The name of the hurricane is Harvey ... Steve ...</td>\n",
       "    </tr>\n",
       "    <tr>\n",
       "      <th>...</th>\n",
       "      <td>...</td>\n",
       "    </tr>\n",
       "    <tr>\n",
       "      <th>399401</th>\n",
       "      <td>Lawyers wanting to provide pro bono help in th...</td>\n",
       "    </tr>\n",
       "    <tr>\n",
       "      <th>399402</th>\n",
       "      <td>Hurricane Harvey: Alabama�s largest church alr...</td>\n",
       "    </tr>\n",
       "    <tr>\n",
       "      <th>399403</th>\n",
       "      <td>Hurricane Harvey pressures already tight Houst...</td>\n",
       "    </tr>\n",
       "    <tr>\n",
       "      <th>399404</th>\n",
       "      <td>Our thoughts are with our neighbors in the Sou...</td>\n",
       "    </tr>\n",
       "    <tr>\n",
       "      <th>399405</th>\n",
       "      <td>Marylanders head to Texas to assist with Hurri...</td>\n",
       "    </tr>\n",
       "  </tbody>\n",
       "</table>\n",
       "<p>399406 rows × 1 columns</p>\n",
       "</div>"
      ],
      "text/plain": [
       "                                                    Tweet\n",
       "0       If you do decide to drive in for #ColdplayHous...\n",
       "1       As Hurricane Harvey is fast approaching, now i...\n",
       "2       Is @JerryJordan_KTT providing live #HurricaneH...\n",
       "3           I'm waiting for a Steve Harvey Hurricane meme\n",
       "4       The name of the hurricane is Harvey ... Steve ...\n",
       "...                                                   ...\n",
       "399401  Lawyers wanting to provide pro bono help in th...\n",
       "399402  Hurricane Harvey: Alabama�s largest church alr...\n",
       "399403  Hurricane Harvey pressures already tight Houst...\n",
       "399404  Our thoughts are with our neighbors in the Sou...\n",
       "399405  Marylanders head to Texas to assist with Hurri...\n",
       "\n",
       "[399406 rows x 1 columns]"
      ]
     },
     "execution_count": 6,
     "metadata": {},
     "output_type": "execute_result"
    }
   ],
   "source": [
    "Hurricane_Tweets"
   ]
  },
  {
   "cell_type": "code",
   "execution_count": 20,
   "id": "63ebe821",
   "metadata": {},
   "outputs": [
    {
     "data": {
      "text/plain": [
       "Time     datetime64[ns]\n",
       "Tweet            object\n",
       "dtype: object"
      ]
     },
     "execution_count": 20,
     "metadata": {},
     "output_type": "execute_result"
    }
   ],
   "source": [
    "Hurricane_Tweets.dtypes"
   ]
  },
  {
   "cell_type": "code",
   "execution_count": 42,
   "id": "220d5222",
   "metadata": {},
   "outputs": [],
   "source": [
    "Hurricane_Tweets['Tweet'] = Hurricane_Tweets['Tweet'].astype(str)"
   ]
  },
  {
   "cell_type": "code",
   "execution_count": 43,
   "id": "e87dd324",
   "metadata": {},
   "outputs": [
    {
     "data": {
      "text/html": [
       "<div>\n",
       "<style scoped>\n",
       "    .dataframe tbody tr th:only-of-type {\n",
       "        vertical-align: middle;\n",
       "    }\n",
       "\n",
       "    .dataframe tbody tr th {\n",
       "        vertical-align: top;\n",
       "    }\n",
       "\n",
       "    .dataframe thead th {\n",
       "        text-align: right;\n",
       "    }\n",
       "</style>\n",
       "<table border=\"1\" class=\"dataframe\">\n",
       "  <thead>\n",
       "    <tr style=\"text-align: right;\">\n",
       "      <th></th>\n",
       "      <th>Tweet</th>\n",
       "    </tr>\n",
       "  </thead>\n",
       "  <tbody>\n",
       "    <tr>\n",
       "      <th>0</th>\n",
       "      <td>if you do decide to drive in for  coldplayhous...</td>\n",
       "    </tr>\n",
       "    <tr>\n",
       "      <th>1</th>\n",
       "      <td>as hurricane harvey is fast approaching  now i...</td>\n",
       "    </tr>\n",
       "    <tr>\n",
       "      <th>2</th>\n",
       "      <td>is  jerryjordan ktt providing live  hurricaneh...</td>\n",
       "    </tr>\n",
       "    <tr>\n",
       "      <th>3</th>\n",
       "      <td>i m waiting for a steve harvey hurricane meme</td>\n",
       "    </tr>\n",
       "    <tr>\n",
       "      <th>4</th>\n",
       "      <td>the name of the hurricane is harvey     steve ...</td>\n",
       "    </tr>\n",
       "  </tbody>\n",
       "</table>\n",
       "</div>"
      ],
      "text/plain": [
       "                                               Tweet\n",
       "0  if you do decide to drive in for  coldplayhous...\n",
       "1  as hurricane harvey is fast approaching  now i...\n",
       "2  is  jerryjordan ktt providing live  hurricaneh...\n",
       "3      i m waiting for a steve harvey hurricane meme\n",
       "4  the name of the hurricane is harvey     steve ..."
      ]
     },
     "execution_count": 43,
     "metadata": {},
     "output_type": "execute_result"
    }
   ],
   "source": [
    "# Text preprocessing steps - remove numbers, captial letters and punctuation\n",
    "\n",
    "\n",
    "alphanumeric = lambda x: re.sub('\\w*\\d\\w*', ' ', x)\n",
    "punc_lower = lambda x: re.sub('[%s]' % re.escape(string.punctuation), ' ', x.lower())\n",
    "\n",
    "Hurricane_Tweets['Tweet'] = Hurricane_Tweets.Tweet.map(alphanumeric).map(punc_lower)\n",
    "Hurricane_Tweets.head()"
   ]
  },
  {
   "cell_type": "code",
   "execution_count": 44,
   "id": "9457df39",
   "metadata": {},
   "outputs": [],
   "source": [
    "# Drop Nulls/NaN's\n",
    "Hurricane_Tweets_Cleaned= Hurricane_Tweets.dropna(subset = ['Tweet'])"
   ]
  },
  {
   "cell_type": "code",
   "execution_count": 45,
   "id": "83687ae4",
   "metadata": {},
   "outputs": [
    {
     "data": {
      "text/html": [
       "<div>\n",
       "<style scoped>\n",
       "    .dataframe tbody tr th:only-of-type {\n",
       "        vertical-align: middle;\n",
       "    }\n",
       "\n",
       "    .dataframe tbody tr th {\n",
       "        vertical-align: top;\n",
       "    }\n",
       "\n",
       "    .dataframe thead th {\n",
       "        text-align: right;\n",
       "    }\n",
       "</style>\n",
       "<table border=\"1\" class=\"dataframe\">\n",
       "  <thead>\n",
       "    <tr style=\"text-align: right;\">\n",
       "      <th></th>\n",
       "      <th>Tweet</th>\n",
       "    </tr>\n",
       "  </thead>\n",
       "  <tbody>\n",
       "    <tr>\n",
       "      <th>0</th>\n",
       "      <td>if you do decide to drive in for  coldplayhous...</td>\n",
       "    </tr>\n",
       "    <tr>\n",
       "      <th>1</th>\n",
       "      <td>as hurricane harvey is fast approaching  now i...</td>\n",
       "    </tr>\n",
       "    <tr>\n",
       "      <th>2</th>\n",
       "      <td>is  jerryjordan ktt providing live  hurricaneh...</td>\n",
       "    </tr>\n",
       "    <tr>\n",
       "      <th>3</th>\n",
       "      <td>i m waiting for a steve harvey hurricane meme</td>\n",
       "    </tr>\n",
       "    <tr>\n",
       "      <th>4</th>\n",
       "      <td>the name of the hurricane is harvey     steve ...</td>\n",
       "    </tr>\n",
       "    <tr>\n",
       "      <th>...</th>\n",
       "      <td>...</td>\n",
       "    </tr>\n",
       "    <tr>\n",
       "      <th>399401</th>\n",
       "      <td>lawyers wanting to provide pro bono help in th...</td>\n",
       "    </tr>\n",
       "    <tr>\n",
       "      <th>399402</th>\n",
       "      <td>hurricane harvey  alabama�s largest church alr...</td>\n",
       "    </tr>\n",
       "    <tr>\n",
       "      <th>399403</th>\n",
       "      <td>hurricane harvey pressures already tight houst...</td>\n",
       "    </tr>\n",
       "    <tr>\n",
       "      <th>399404</th>\n",
       "      <td>our thoughts are with our neighbors in the sou...</td>\n",
       "    </tr>\n",
       "    <tr>\n",
       "      <th>399405</th>\n",
       "      <td>marylanders head to texas to assist with hurri...</td>\n",
       "    </tr>\n",
       "  </tbody>\n",
       "</table>\n",
       "<p>399406 rows × 1 columns</p>\n",
       "</div>"
      ],
      "text/plain": [
       "                                                    Tweet\n",
       "0       if you do decide to drive in for  coldplayhous...\n",
       "1       as hurricane harvey is fast approaching  now i...\n",
       "2       is  jerryjordan ktt providing live  hurricaneh...\n",
       "3           i m waiting for a steve harvey hurricane meme\n",
       "4       the name of the hurricane is harvey     steve ...\n",
       "...                                                   ...\n",
       "399401  lawyers wanting to provide pro bono help in th...\n",
       "399402  hurricane harvey  alabama�s largest church alr...\n",
       "399403  hurricane harvey pressures already tight houst...\n",
       "399404  our thoughts are with our neighbors in the sou...\n",
       "399405  marylanders head to texas to assist with hurri...\n",
       "\n",
       "[399406 rows x 1 columns]"
      ]
     },
     "execution_count": 45,
     "metadata": {},
     "output_type": "execute_result"
    }
   ],
   "source": [
    "Hurricane_Tweets_Cleaned"
   ]
  },
  {
   "cell_type": "code",
   "execution_count": 46,
   "id": "3dce07ea",
   "metadata": {},
   "outputs": [],
   "source": [
    "Hurricane_Tweets_Cleaned.to_csv('Hurricane_Harvey_Tweets_Cleaned_Time_Removed.csv', index = False)"
   ]
  },
  {
   "cell_type": "code",
   "execution_count": 47,
   "id": "7a26d652",
   "metadata": {},
   "outputs": [
    {
     "name": "stdout",
     "output_type": "stream",
     "text": [
      "<class 'pandas.core.frame.DataFrame'>\n",
      "Int64Index: 399406 entries, 0 to 399405\n",
      "Data columns (total 1 columns):\n",
      " #   Column  Non-Null Count   Dtype \n",
      "---  ------  --------------   ----- \n",
      " 0   Tweet   399406 non-null  object\n",
      "dtypes: object(1)\n",
      "memory usage: 6.1+ MB\n"
     ]
    }
   ],
   "source": [
    "Hurricane_Tweets_Cleaned.info()"
   ]
  },
  {
   "cell_type": "code",
   "execution_count": null,
   "id": "277869be",
   "metadata": {},
   "outputs": [],
   "source": []
  },
  {
   "cell_type": "code",
   "execution_count": null,
   "id": "697f92f4",
   "metadata": {},
   "outputs": [],
   "source": []
  },
  {
   "cell_type": "code",
   "execution_count": null,
   "id": "73f948a5",
   "metadata": {},
   "outputs": [],
   "source": []
  }
 ],
 "metadata": {
  "kernelspec": {
   "display_name": "Python [conda env:metis] *",
   "language": "python",
   "name": "conda-env-metis-py"
  },
  "language_info": {
   "codemirror_mode": {
    "name": "ipython",
    "version": 3
   },
   "file_extension": ".py",
   "mimetype": "text/x-python",
   "name": "python",
   "nbconvert_exporter": "python",
   "pygments_lexer": "ipython3",
   "version": "3.8.10"
  }
 },
 "nbformat": 4,
 "nbformat_minor": 5
}
