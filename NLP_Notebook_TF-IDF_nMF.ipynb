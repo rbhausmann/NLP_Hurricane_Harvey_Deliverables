{
 "cells": [
  {
   "cell_type": "code",
   "execution_count": 42,
   "id": "f27476ef",
   "metadata": {},
   "outputs": [],
   "source": [
    "import pandas as pd\n",
    "import numpy as np\n",
    "\n",
    "from sklearn.feature_extraction.text import TfidfVectorizer, ENGLISH_STOP_WORDS\n",
    "from sklearn.decomposition import NMF, TruncatedSVD, LatentDirichletAllocation\n",
    "\n",
    "import pandas as pd\n",
    "from sklearn.feature_extraction.text import CountVectorizer \n",
    "from sklearn.decomposition import TruncatedSVD\n",
    "from sklearn.decomposition import NMF\n",
    "from sklearn.metrics.pairwise import cosine_similarity\n",
    "from nltk.stem import WordNetLemmatizer\n",
    "\n",
    "from mordecai import Geoparser\n",
    "\n"
   ]
  },
  {
   "cell_type": "markdown",
   "id": "814713e5",
   "metadata": {},
   "source": [
    "<b> DOUBLE CHECK MY CLEANING: <B>"
   ]
  },
  {
   "cell_type": "code",
   "execution_count": 43,
   "id": "0b76fcfe",
   "metadata": {},
   "outputs": [],
   "source": [
    "Hurricane_Tweets = pd.read_csv('Hurricane_Harvey_Tweets_Cleaned_Time_Removed.csv',lineterminator='\\n')"
   ]
  },
  {
   "cell_type": "code",
   "execution_count": 44,
   "id": "c1c0cb7f",
   "metadata": {},
   "outputs": [
    {
     "data": {
      "text/html": [
       "<div>\n",
       "<style scoped>\n",
       "    .dataframe tbody tr th:only-of-type {\n",
       "        vertical-align: middle;\n",
       "    }\n",
       "\n",
       "    .dataframe tbody tr th {\n",
       "        vertical-align: top;\n",
       "    }\n",
       "\n",
       "    .dataframe thead th {\n",
       "        text-align: right;\n",
       "    }\n",
       "</style>\n",
       "<table border=\"1\" class=\"dataframe\">\n",
       "  <thead>\n",
       "    <tr style=\"text-align: right;\">\n",
       "      <th></th>\n",
       "      <th>Tweet</th>\n",
       "    </tr>\n",
       "  </thead>\n",
       "  <tbody>\n",
       "    <tr>\n",
       "      <th>11903</th>\n",
       "      <td>NaN</td>\n",
       "    </tr>\n",
       "    <tr>\n",
       "      <th>14759</th>\n",
       "      <td>NaN</td>\n",
       "    </tr>\n",
       "    <tr>\n",
       "      <th>23092</th>\n",
       "      <td>NaN</td>\n",
       "    </tr>\n",
       "    <tr>\n",
       "      <th>37273</th>\n",
       "      <td>NaN</td>\n",
       "    </tr>\n",
       "    <tr>\n",
       "      <th>39298</th>\n",
       "      <td>NaN</td>\n",
       "    </tr>\n",
       "    <tr>\n",
       "      <th>...</th>\n",
       "      <td>...</td>\n",
       "    </tr>\n",
       "    <tr>\n",
       "      <th>387147</th>\n",
       "      <td>NaN</td>\n",
       "    </tr>\n",
       "    <tr>\n",
       "      <th>387148</th>\n",
       "      <td>NaN</td>\n",
       "    </tr>\n",
       "    <tr>\n",
       "      <th>387441</th>\n",
       "      <td>NaN</td>\n",
       "    </tr>\n",
       "    <tr>\n",
       "      <th>387442</th>\n",
       "      <td>NaN</td>\n",
       "    </tr>\n",
       "    <tr>\n",
       "      <th>393683</th>\n",
       "      <td>NaN</td>\n",
       "    </tr>\n",
       "  </tbody>\n",
       "</table>\n",
       "<p>490 rows × 1 columns</p>\n",
       "</div>"
      ],
      "text/plain": [
       "       Tweet\n",
       "11903    NaN\n",
       "14759    NaN\n",
       "23092    NaN\n",
       "37273    NaN\n",
       "39298    NaN\n",
       "...      ...\n",
       "387147   NaN\n",
       "387148   NaN\n",
       "387441   NaN\n",
       "387442   NaN\n",
       "393683   NaN\n",
       "\n",
       "[490 rows x 1 columns]"
      ]
     },
     "execution_count": 44,
     "metadata": {},
     "output_type": "execute_result"
    }
   ],
   "source": [
    "#Check NaN's and Nulls again\n",
    "Hurricane_Tweets[Hurricane_Tweets.Tweet.isna()]"
   ]
  },
  {
   "cell_type": "code",
   "execution_count": 45,
   "id": "60b96bec",
   "metadata": {},
   "outputs": [],
   "source": [
    "# Drop Nulls/NaN's\n",
    "Hurricane_Tweets_Cleaned_NaN= Hurricane_Tweets.dropna(subset = ['Tweet'])"
   ]
  },
  {
   "cell_type": "code",
   "execution_count": 120,
   "id": "75111dd0",
   "metadata": {},
   "outputs": [
    {
     "data": {
      "text/html": [
       "<div>\n",
       "<style scoped>\n",
       "    .dataframe tbody tr th:only-of-type {\n",
       "        vertical-align: middle;\n",
       "    }\n",
       "\n",
       "    .dataframe tbody tr th {\n",
       "        vertical-align: top;\n",
       "    }\n",
       "\n",
       "    .dataframe thead th {\n",
       "        text-align: right;\n",
       "    }\n",
       "</style>\n",
       "<table border=\"1\" class=\"dataframe\">\n",
       "  <thead>\n",
       "    <tr style=\"text-align: right;\">\n",
       "      <th></th>\n",
       "      <th>Tweet</th>\n",
       "    </tr>\n",
       "  </thead>\n",
       "  <tbody>\n",
       "    <tr>\n",
       "      <th>0</th>\n",
       "      <td>if you do decide to drive in for  coldplayhous...</td>\n",
       "    </tr>\n",
       "    <tr>\n",
       "      <th>1</th>\n",
       "      <td>as hurricane harvey is fast approaching  now i...</td>\n",
       "    </tr>\n",
       "    <tr>\n",
       "      <th>2</th>\n",
       "      <td>is  jerryjordan ktt providing live  hurricaneh...</td>\n",
       "    </tr>\n",
       "    <tr>\n",
       "      <th>3</th>\n",
       "      <td>i m waiting for a steve harvey hurricane meme</td>\n",
       "    </tr>\n",
       "    <tr>\n",
       "      <th>4</th>\n",
       "      <td>the name of the hurricane is harvey     steve ...</td>\n",
       "    </tr>\n",
       "    <tr>\n",
       "      <th>...</th>\n",
       "      <td>...</td>\n",
       "    </tr>\n",
       "    <tr>\n",
       "      <th>399390</th>\n",
       "      <td>lawyers wanting to provide pro bono help in th...</td>\n",
       "    </tr>\n",
       "    <tr>\n",
       "      <th>399391</th>\n",
       "      <td>hurricane harvey  alabama�s largest church alr...</td>\n",
       "    </tr>\n",
       "    <tr>\n",
       "      <th>399392</th>\n",
       "      <td>hurricane harvey pressures already tight houst...</td>\n",
       "    </tr>\n",
       "    <tr>\n",
       "      <th>399393</th>\n",
       "      <td>our thoughts are with our neighbors in the sou...</td>\n",
       "    </tr>\n",
       "    <tr>\n",
       "      <th>399394</th>\n",
       "      <td>marylanders head to texas to assist with hurri...</td>\n",
       "    </tr>\n",
       "  </tbody>\n",
       "</table>\n",
       "<p>398905 rows × 1 columns</p>\n",
       "</div>"
      ],
      "text/plain": [
       "                                                    Tweet\n",
       "0       if you do decide to drive in for  coldplayhous...\n",
       "1       as hurricane harvey is fast approaching  now i...\n",
       "2       is  jerryjordan ktt providing live  hurricaneh...\n",
       "3           i m waiting for a steve harvey hurricane meme\n",
       "4       the name of the hurricane is harvey     steve ...\n",
       "...                                                   ...\n",
       "399390  lawyers wanting to provide pro bono help in th...\n",
       "399391  hurricane harvey  alabama�s largest church alr...\n",
       "399392  hurricane harvey pressures already tight houst...\n",
       "399393  our thoughts are with our neighbors in the sou...\n",
       "399394  marylanders head to texas to assist with hurri...\n",
       "\n",
       "[398905 rows x 1 columns]"
      ]
     },
     "execution_count": 120,
     "metadata": {},
     "output_type": "execute_result"
    }
   ],
   "source": [
    "Hurricane_Tweets_Cleaned_NaN"
   ]
  },
  {
   "cell_type": "code",
   "execution_count": 46,
   "id": "3088e576",
   "metadata": {},
   "outputs": [
    {
     "data": {
      "text/html": [
       "<div>\n",
       "<style scoped>\n",
       "    .dataframe tbody tr th:only-of-type {\n",
       "        vertical-align: middle;\n",
       "    }\n",
       "\n",
       "    .dataframe tbody tr th {\n",
       "        vertical-align: top;\n",
       "    }\n",
       "\n",
       "    .dataframe thead th {\n",
       "        text-align: right;\n",
       "    }\n",
       "</style>\n",
       "<table border=\"1\" class=\"dataframe\">\n",
       "  <thead>\n",
       "    <tr style=\"text-align: right;\">\n",
       "      <th></th>\n",
       "      <th>Tweet</th>\n",
       "    </tr>\n",
       "  </thead>\n",
       "  <tbody>\n",
       "  </tbody>\n",
       "</table>\n",
       "</div>"
      ],
      "text/plain": [
       "Empty DataFrame\n",
       "Columns: [Tweet]\n",
       "Index: []"
      ]
     },
     "execution_count": 46,
     "metadata": {},
     "output_type": "execute_result"
    }
   ],
   "source": [
    "# Check if all the Null's were dropped\n",
    "Hurricane_Tweets_Cleaned_NaN[Hurricane_Tweets_Cleaned_NaN.Tweet.isna()]"
   ]
  },
  {
   "cell_type": "code",
   "execution_count": 47,
   "id": "ff9d68f3",
   "metadata": {},
   "outputs": [],
   "source": [
    "# Convert the Tweet column to a list\n",
    "list_of_tweets = Hurricane_Tweets_Cleaned_NaN['Tweet'].to_list()"
   ]
  },
  {
   "cell_type": "code",
   "execution_count": 117,
   "id": "8990d29f",
   "metadata": {},
   "outputs": [],
   "source": [
    "String_Tweets_CLEANED= Hurricane_Tweets_Cleaned_NaN['Tweet'].astype(str)"
   ]
  },
  {
   "cell_type": "code",
   "execution_count": 119,
   "id": "f84f84fd",
   "metadata": {},
   "outputs": [
    {
     "data": {
      "text/plain": [
       "0    if you do decide to drive in for  coldplayhous...\n",
       "1    as hurricane harvey is fast approaching  now i...\n",
       "2    is  jerryjordan ktt providing live  hurricaneh...\n",
       "3        i m waiting for a steve harvey hurricane meme\n",
       "4    the name of the hurricane is harvey     steve ...\n",
       "Name: Tweet, dtype: object"
      ]
     },
     "execution_count": 119,
     "metadata": {},
     "output_type": "execute_result"
    }
   ],
   "source": [
    "String_Tweets_CLEANED"
   ]
  },
  {
   "cell_type": "code",
   "execution_count": 79,
   "id": "964a1dc1",
   "metadata": {},
   "outputs": [
    {
     "name": "stdout",
     "output_type": "stream",
     "text": [
      "<class 'pandas.core.frame.DataFrame'>\n",
      "RangeIndex: 399395 entries, 0 to 399394\n",
      "Data columns (total 1 columns):\n",
      " #   Column  Non-Null Count   Dtype \n",
      "---  ------  --------------   ----- \n",
      " 0   Tweet   398905 non-null  object\n",
      "dtypes: object(1)\n",
      "memory usage: 3.0+ MB\n"
     ]
    }
   ],
   "source": [
    "Hurricane_Tweets.info()"
   ]
  },
  {
   "cell_type": "code",
   "execution_count": 8,
   "id": "8090aa51",
   "metadata": {},
   "outputs": [],
   "source": [
    "# to remove certain stop words \n",
    "# ENGLISH_STOP_WORDS.remove"
   ]
  },
  {
   "cell_type": "code",
   "execution_count": 69,
   "id": "a138ac5a",
   "metadata": {},
   "outputs": [],
   "source": [
    "# create a new dataframe and then convert it to a string\n",
    "String_Tweets = Hurricane_Tweets['Tweet'].astype(str)"
   ]
  },
  {
   "cell_type": "code",
   "execution_count": 92,
   "id": "20dee5fb",
   "metadata": {},
   "outputs": [],
   "source": [
    "test.to_csv('String_Tweets_test.csv',index = False)"
   ]
  },
  {
   "cell_type": "code",
   "execution_count": 80,
   "id": "300b41b2",
   "metadata": {},
   "outputs": [
    {
     "data": {
      "text/plain": [
       "0         if you do decide to drive in for  coldplayhous...\n",
       "1         as hurricane harvey is fast approaching  now i...\n",
       "2         is  jerryjordan ktt providing live  hurricaneh...\n",
       "3             i m waiting for a steve harvey hurricane meme\n",
       "4         the name of the hurricane is harvey     steve ...\n",
       "                                ...                        \n",
       "399390    lawyers wanting to provide pro bono help in th...\n",
       "399391    hurricane harvey  alabama�s largest church alr...\n",
       "399392    hurricane harvey pressures already tight houst...\n",
       "399393    our thoughts are with our neighbors in the sou...\n",
       "399394    marylanders head to texas to assist with hurri...\n",
       "Name: Tweet, Length: 399395, dtype: object"
      ]
     },
     "execution_count": 80,
     "metadata": {},
     "output_type": "execute_result"
    }
   ],
   "source": [
    "String_Tweets"
   ]
  },
  {
   "cell_type": "code",
   "execution_count": 87,
   "id": "b6ffce0f",
   "metadata": {},
   "outputs": [],
   "source": [
    "test = pd.read_csv('String_Tweets.csv',lineterminator='\\n')"
   ]
  },
  {
   "cell_type": "code",
   "execution_count": 91,
   "id": "09a4b4af",
   "metadata": {},
   "outputs": [
    {
     "data": {
      "text/html": [
       "<div>\n",
       "<style scoped>\n",
       "    .dataframe tbody tr th:only-of-type {\n",
       "        vertical-align: middle;\n",
       "    }\n",
       "\n",
       "    .dataframe tbody tr th {\n",
       "        vertical-align: top;\n",
       "    }\n",
       "\n",
       "    .dataframe thead th {\n",
       "        text-align: right;\n",
       "    }\n",
       "</style>\n",
       "<table border=\"1\" class=\"dataframe\">\n",
       "  <thead>\n",
       "    <tr style=\"text-align: right;\">\n",
       "      <th></th>\n",
       "      <th>Tweet</th>\n",
       "    </tr>\n",
       "  </thead>\n",
       "  <tbody>\n",
       "    <tr>\n",
       "      <th>0</th>\n",
       "      <td>if you do decide to drive in for  coldplayhous...</td>\n",
       "    </tr>\n",
       "    <tr>\n",
       "      <th>1</th>\n",
       "      <td>as hurricane harvey is fast approaching  now i...</td>\n",
       "    </tr>\n",
       "    <tr>\n",
       "      <th>2</th>\n",
       "      <td>is  jerryjordan ktt providing live  hurricaneh...</td>\n",
       "    </tr>\n",
       "    <tr>\n",
       "      <th>3</th>\n",
       "      <td>i m waiting for a steve harvey hurricane meme</td>\n",
       "    </tr>\n",
       "    <tr>\n",
       "      <th>4</th>\n",
       "      <td>the name of the hurricane is harvey     steve ...</td>\n",
       "    </tr>\n",
       "    <tr>\n",
       "      <th>...</th>\n",
       "      <td>...</td>\n",
       "    </tr>\n",
       "    <tr>\n",
       "      <th>399390</th>\n",
       "      <td>lawyers wanting to provide pro bono help in th...</td>\n",
       "    </tr>\n",
       "    <tr>\n",
       "      <th>399391</th>\n",
       "      <td>hurricane harvey  alabama�s largest church alr...</td>\n",
       "    </tr>\n",
       "    <tr>\n",
       "      <th>399392</th>\n",
       "      <td>hurricane harvey pressures already tight houst...</td>\n",
       "    </tr>\n",
       "    <tr>\n",
       "      <th>399393</th>\n",
       "      <td>our thoughts are with our neighbors in the sou...</td>\n",
       "    </tr>\n",
       "    <tr>\n",
       "      <th>399394</th>\n",
       "      <td>marylanders head to texas to assist with hurri...</td>\n",
       "    </tr>\n",
       "  </tbody>\n",
       "</table>\n",
       "<p>399395 rows × 1 columns</p>\n",
       "</div>"
      ],
      "text/plain": [
       "                                                    Tweet\n",
       "0       if you do decide to drive in for  coldplayhous...\n",
       "1       as hurricane harvey is fast approaching  now i...\n",
       "2       is  jerryjordan ktt providing live  hurricaneh...\n",
       "3           i m waiting for a steve harvey hurricane meme\n",
       "4       the name of the hurricane is harvey     steve ...\n",
       "...                                                   ...\n",
       "399390  lawyers wanting to provide pro bono help in th...\n",
       "399391  hurricane harvey  alabama�s largest church alr...\n",
       "399392  hurricane harvey pressures already tight houst...\n",
       "399393  our thoughts are with our neighbors in the sou...\n",
       "399394  marylanders head to texas to assist with hurri...\n",
       "\n",
       "[399395 rows x 1 columns]"
      ]
     },
     "execution_count": 91,
     "metadata": {},
     "output_type": "execute_result"
    }
   ],
   "source": [
    "test"
   ]
  },
  {
   "cell_type": "code",
   "execution_count": null,
   "id": "212d1ba2",
   "metadata": {},
   "outputs": [],
   "source": []
  },
  {
   "cell_type": "code",
   "execution_count": null,
   "id": "59d5e514",
   "metadata": {},
   "outputs": [],
   "source": []
  },
  {
   "cell_type": "markdown",
   "id": "55067b2f",
   "metadata": {},
   "source": [
    "  "
   ]
  },
  {
   "cell_type": "markdown",
   "id": "aaa0d7cd",
   "metadata": {},
   "source": [
    "  "
   ]
  },
  {
   "cell_type": "markdown",
   "id": "a272479f",
   "metadata": {},
   "source": [
    "<b> Add stop words to the english dict. that I dont want to include: </b>"
   ]
  },
  {
   "cell_type": "code",
   "execution_count": 48,
   "id": "68bfaa34",
   "metadata": {},
   "outputs": [],
   "source": [
    "stop_words = ENGLISH_STOP_WORDS.union(['harvey','hurricaneharvey','html','hurricane','texas','steve','com','http','link','pic','twitter','tweet','www','https',])"
   ]
  },
  {
   "cell_type": "code",
   "execution_count": 49,
   "id": "e35f3c87",
   "metadata": {},
   "outputs": [],
   "source": [
    "## Lementize Here (or put it within the vectorizer below)\n",
    "## Ask Valentina\n",
    "lemmatizer = WordNetLemmatizer()"
   ]
  },
  {
   "cell_type": "code",
   "execution_count": 50,
   "id": "a22b1292",
   "metadata": {},
   "outputs": [
    {
     "name": "stderr",
     "output_type": "stream",
     "text": [
      "[nltk_data] Downloading package wordnet to\n",
      "[nltk_data]     /Users/rachelbryn/nltk_data...\n",
      "[nltk_data]   Package wordnet is already up-to-date!\n"
     ]
    },
    {
     "data": {
      "text/plain": [
       "True"
      ]
     },
     "execution_count": 50,
     "metadata": {},
     "output_type": "execute_result"
    }
   ],
   "source": [
    "import nltk \n",
    "nltk.download('wordnet')"
   ]
  },
  {
   "cell_type": "code",
   "execution_count": 11,
   "id": "3254454c",
   "metadata": {},
   "outputs": [],
   "source": [
    "def preprocessor(doc):\n",
    "    return lemmatizer.lemmatize(doc)\n",
    "   \n",
    "    \n",
    "    # return \" \".join(doc)"
   ]
  },
  {
   "cell_type": "code",
   "execution_count": 12,
   "id": "44713f76",
   "metadata": {},
   "outputs": [
    {
     "name": "stderr",
     "output_type": "stream",
     "text": [
      "/Users/rachelbryn/opt/anaconda3/lib/python3.8/site-packages/sklearn/feature_extraction/text.py:383: UserWarning: Your stop_words may be inconsistent with your preprocessing. Tokenizing the stop words generated tokens ['ha', 'le', 'wa'] not in stop_words.\n",
      "  warnings.warn('Your stop_words may be inconsistent with '\n"
     ]
    },
    {
     "data": {
      "text/html": [
       "<div>\n",
       "<style scoped>\n",
       "    .dataframe tbody tr th:only-of-type {\n",
       "        vertical-align: middle;\n",
       "    }\n",
       "\n",
       "    .dataframe tbody tr th {\n",
       "        vertical-align: top;\n",
       "    }\n",
       "\n",
       "    .dataframe thead th {\n",
       "        text-align: right;\n",
       "    }\n",
       "</style>\n",
       "<table border=\"1\" class=\"dataframe\">\n",
       "  <thead>\n",
       "    <tr style=\"text-align: right;\">\n",
       "      <th></th>\n",
       "      <th>aa</th>\n",
       "      <th>aaa</th>\n",
       "      <th>aaaa</th>\n",
       "      <th>aaaaaa</th>\n",
       "      <th>aaaaaaaa</th>\n",
       "      <th>aaaaaaaaaaaaaaaaaaaaaaaaaaaaaaaaaaaa</th>\n",
       "      <th>aaaaaaaaaaaaaaaaand</th>\n",
       "      <th>aaaaaaah</th>\n",
       "      <th>aaaaaaand</th>\n",
       "      <th>aaaaaaaye</th>\n",
       "      <th>...</th>\n",
       "      <th>zzqjgutjin</th>\n",
       "      <th>zzqpokqleri</th>\n",
       "      <th>zzrolqyq</th>\n",
       "      <th>zzsaunubjz</th>\n",
       "      <th>zzspqt</th>\n",
       "      <th>zztop</th>\n",
       "      <th>zzvncgpmxq</th>\n",
       "      <th>zzxrjvbrid</th>\n",
       "      <th>zzz</th>\n",
       "      <th>zzzxgnbk</th>\n",
       "    </tr>\n",
       "  </thead>\n",
       "  <tbody>\n",
       "    <tr>\n",
       "      <th>if you do decide to drive in for  coldplayhouston be prepared to stay because there might not be gas to get you home   hurricaneharvey</th>\n",
       "      <td>0.0</td>\n",
       "      <td>0.0</td>\n",
       "      <td>0.0</td>\n",
       "      <td>0.0</td>\n",
       "      <td>0.0</td>\n",
       "      <td>0.0</td>\n",
       "      <td>0.0</td>\n",
       "      <td>0.0</td>\n",
       "      <td>0.0</td>\n",
       "      <td>0.0</td>\n",
       "      <td>...</td>\n",
       "      <td>0.0</td>\n",
       "      <td>0.0</td>\n",
       "      <td>0.0</td>\n",
       "      <td>0.0</td>\n",
       "      <td>0.0</td>\n",
       "      <td>0.0</td>\n",
       "      <td>0.0</td>\n",
       "      <td>0.0</td>\n",
       "      <td>0.0</td>\n",
       "      <td>0.0</td>\n",
       "    </tr>\n",
       "    <tr>\n",
       "      <th>as hurricane harvey is fast approaching  now is the time to do what you can to prepare your property to minimize    http   fb me  �</th>\n",
       "      <td>0.0</td>\n",
       "      <td>0.0</td>\n",
       "      <td>0.0</td>\n",
       "      <td>0.0</td>\n",
       "      <td>0.0</td>\n",
       "      <td>0.0</td>\n",
       "      <td>0.0</td>\n",
       "      <td>0.0</td>\n",
       "      <td>0.0</td>\n",
       "      <td>0.0</td>\n",
       "      <td>...</td>\n",
       "      <td>0.0</td>\n",
       "      <td>0.0</td>\n",
       "      <td>0.0</td>\n",
       "      <td>0.0</td>\n",
       "      <td>0.0</td>\n",
       "      <td>0.0</td>\n",
       "      <td>0.0</td>\n",
       "      <td>0.0</td>\n",
       "      <td>0.0</td>\n",
       "      <td>0.0</td>\n",
       "    </tr>\n",
       "    <tr>\n",
       "      <th>is  jerryjordan ktt providing live  hurricaneharvey coverage for  kicknthetires  \\r\\n\\r\\n askingforafriend</th>\n",
       "      <td>0.0</td>\n",
       "      <td>0.0</td>\n",
       "      <td>0.0</td>\n",
       "      <td>0.0</td>\n",
       "      <td>0.0</td>\n",
       "      <td>0.0</td>\n",
       "      <td>0.0</td>\n",
       "      <td>0.0</td>\n",
       "      <td>0.0</td>\n",
       "      <td>0.0</td>\n",
       "      <td>...</td>\n",
       "      <td>0.0</td>\n",
       "      <td>0.0</td>\n",
       "      <td>0.0</td>\n",
       "      <td>0.0</td>\n",
       "      <td>0.0</td>\n",
       "      <td>0.0</td>\n",
       "      <td>0.0</td>\n",
       "      <td>0.0</td>\n",
       "      <td>0.0</td>\n",
       "      <td>0.0</td>\n",
       "    </tr>\n",
       "    <tr>\n",
       "      <th>i m waiting for a steve harvey hurricane meme</th>\n",
       "      <td>0.0</td>\n",
       "      <td>0.0</td>\n",
       "      <td>0.0</td>\n",
       "      <td>0.0</td>\n",
       "      <td>0.0</td>\n",
       "      <td>0.0</td>\n",
       "      <td>0.0</td>\n",
       "      <td>0.0</td>\n",
       "      <td>0.0</td>\n",
       "      <td>0.0</td>\n",
       "      <td>...</td>\n",
       "      <td>0.0</td>\n",
       "      <td>0.0</td>\n",
       "      <td>0.0</td>\n",
       "      <td>0.0</td>\n",
       "      <td>0.0</td>\n",
       "      <td>0.0</td>\n",
       "      <td>0.0</td>\n",
       "      <td>0.0</td>\n",
       "      <td>0.0</td>\n",
       "      <td>0.0</td>\n",
       "    </tr>\n",
       "    <tr>\n",
       "      <th>the name of the hurricane is harvey     steve harvey</th>\n",
       "      <td>0.0</td>\n",
       "      <td>0.0</td>\n",
       "      <td>0.0</td>\n",
       "      <td>0.0</td>\n",
       "      <td>0.0</td>\n",
       "      <td>0.0</td>\n",
       "      <td>0.0</td>\n",
       "      <td>0.0</td>\n",
       "      <td>0.0</td>\n",
       "      <td>0.0</td>\n",
       "      <td>...</td>\n",
       "      <td>0.0</td>\n",
       "      <td>0.0</td>\n",
       "      <td>0.0</td>\n",
       "      <td>0.0</td>\n",
       "      <td>0.0</td>\n",
       "      <td>0.0</td>\n",
       "      <td>0.0</td>\n",
       "      <td>0.0</td>\n",
       "      <td>0.0</td>\n",
       "      <td>0.0</td>\n",
       "    </tr>\n",
       "    <tr>\n",
       "      <th>realdonaldtrump is a shitshow when nothing s going on \\r\\n\\r\\naaaaand here comes  hurricaneharvey\\r\\n\\r\\nbest of luck  gulf coast\\r\\n\\r\\n shitshow</th>\n",
       "      <td>0.0</td>\n",
       "      <td>0.0</td>\n",
       "      <td>0.0</td>\n",
       "      <td>0.0</td>\n",
       "      <td>0.0</td>\n",
       "      <td>0.0</td>\n",
       "      <td>0.0</td>\n",
       "      <td>0.0</td>\n",
       "      <td>0.0</td>\n",
       "      <td>0.0</td>\n",
       "      <td>...</td>\n",
       "      <td>0.0</td>\n",
       "      <td>0.0</td>\n",
       "      <td>0.0</td>\n",
       "      <td>0.0</td>\n",
       "      <td>0.0</td>\n",
       "      <td>0.0</td>\n",
       "      <td>0.0</td>\n",
       "      <td>0.0</td>\n",
       "      <td>0.0</td>\n",
       "      <td>0.0</td>\n",
       "    </tr>\n",
       "    <tr>\n",
       "      <th>if you re able  give blood at  redcross   donate  blood  time  money  skills   hurricane harvey is a bad one    unite  help  serve</th>\n",
       "      <td>0.0</td>\n",
       "      <td>0.0</td>\n",
       "      <td>0.0</td>\n",
       "      <td>0.0</td>\n",
       "      <td>0.0</td>\n",
       "      <td>0.0</td>\n",
       "      <td>0.0</td>\n",
       "      <td>0.0</td>\n",
       "      <td>0.0</td>\n",
       "      <td>0.0</td>\n",
       "      <td>...</td>\n",
       "      <td>0.0</td>\n",
       "      <td>0.0</td>\n",
       "      <td>0.0</td>\n",
       "      <td>0.0</td>\n",
       "      <td>0.0</td>\n",
       "      <td>0.0</td>\n",
       "      <td>0.0</td>\n",
       "      <td>0.0</td>\n",
       "      <td>0.0</td>\n",
       "      <td>0.0</td>\n",
       "    </tr>\n",
       "    <tr>\n",
       "      <th>summary for hurricane harvey       http   fb me  �</th>\n",
       "      <td>0.0</td>\n",
       "      <td>0.0</td>\n",
       "      <td>0.0</td>\n",
       "      <td>0.0</td>\n",
       "      <td>0.0</td>\n",
       "      <td>0.0</td>\n",
       "      <td>0.0</td>\n",
       "      <td>0.0</td>\n",
       "      <td>0.0</td>\n",
       "      <td>0.0</td>\n",
       "      <td>...</td>\n",
       "      <td>0.0</td>\n",
       "      <td>0.0</td>\n",
       "      <td>0.0</td>\n",
       "      <td>0.0</td>\n",
       "      <td>0.0</td>\n",
       "      <td>0.0</td>\n",
       "      <td>0.0</td>\n",
       "      <td>0.0</td>\n",
       "      <td>0.0</td>\n",
       "      <td>0.0</td>\n",
       "    </tr>\n",
       "    <tr>\n",
       "      <th>nasa  rt esa eo  just in     measures  hurricaneharvey s temperature as the  storm quickly approaches the   https   twitter com i web status  �</th>\n",
       "      <td>0.0</td>\n",
       "      <td>0.0</td>\n",
       "      <td>0.0</td>\n",
       "      <td>0.0</td>\n",
       "      <td>0.0</td>\n",
       "      <td>0.0</td>\n",
       "      <td>0.0</td>\n",
       "      <td>0.0</td>\n",
       "      <td>0.0</td>\n",
       "      <td>0.0</td>\n",
       "      <td>...</td>\n",
       "      <td>0.0</td>\n",
       "      <td>0.0</td>\n",
       "      <td>0.0</td>\n",
       "      <td>0.0</td>\n",
       "      <td>0.0</td>\n",
       "      <td>0.0</td>\n",
       "      <td>0.0</td>\n",
       "      <td>0.0</td>\n",
       "      <td>0.0</td>\n",
       "      <td>0.0</td>\n",
       "    </tr>\n",
       "    <tr>\n",
       "      <th>life threatening  hurricane harvey heads toward texas coast\\r\\nhttp   trib al  �pic twitter com</th>\n",
       "      <td>0.0</td>\n",
       "      <td>0.0</td>\n",
       "      <td>0.0</td>\n",
       "      <td>0.0</td>\n",
       "      <td>0.0</td>\n",
       "      <td>0.0</td>\n",
       "      <td>0.0</td>\n",
       "      <td>0.0</td>\n",
       "      <td>0.0</td>\n",
       "      <td>0.0</td>\n",
       "      <td>...</td>\n",
       "      <td>0.0</td>\n",
       "      <td>0.0</td>\n",
       "      <td>0.0</td>\n",
       "      <td>0.0</td>\n",
       "      <td>0.0</td>\n",
       "      <td>0.0</td>\n",
       "      <td>0.0</td>\n",
       "      <td>0.0</td>\n",
       "      <td>0.0</td>\n",
       "      <td>0.0</td>\n",
       "    </tr>\n",
       "  </tbody>\n",
       "</table>\n",
       "<p>10 rows × 104076 columns</p>\n",
       "</div>"
      ],
      "text/plain": [
       "                                                     aa  aaa  aaaa  aaaaaa  \\\n",
       "if you do decide to drive in for  coldplayhoust...  0.0  0.0   0.0     0.0   \n",
       "as hurricane harvey is fast approaching  now is...  0.0  0.0   0.0     0.0   \n",
       "is  jerryjordan ktt providing live  hurricaneha...  0.0  0.0   0.0     0.0   \n",
       "i m waiting for a steve harvey hurricane meme       0.0  0.0   0.0     0.0   \n",
       "the name of the hurricane is harvey     steve h...  0.0  0.0   0.0     0.0   \n",
       " realdonaldtrump is a shitshow when nothing s g...  0.0  0.0   0.0     0.0   \n",
       "if you re able  give blood at  redcross   donat...  0.0  0.0   0.0     0.0   \n",
       "summary for hurricane harvey       http   fb me  �  0.0  0.0   0.0     0.0   \n",
       "nasa  rt esa eo  just in     measures  hurrican...  0.0  0.0   0.0     0.0   \n",
       " life threatening  hurricane harvey heads towar...  0.0  0.0   0.0     0.0   \n",
       "\n",
       "                                                    aaaaaaaa  \\\n",
       "if you do decide to drive in for  coldplayhoust...       0.0   \n",
       "as hurricane harvey is fast approaching  now is...       0.0   \n",
       "is  jerryjordan ktt providing live  hurricaneha...       0.0   \n",
       "i m waiting for a steve harvey hurricane meme            0.0   \n",
       "the name of the hurricane is harvey     steve h...       0.0   \n",
       " realdonaldtrump is a shitshow when nothing s g...       0.0   \n",
       "if you re able  give blood at  redcross   donat...       0.0   \n",
       "summary for hurricane harvey       http   fb me  �       0.0   \n",
       "nasa  rt esa eo  just in     measures  hurrican...       0.0   \n",
       " life threatening  hurricane harvey heads towar...       0.0   \n",
       "\n",
       "                                                    aaaaaaaaaaaaaaaaaaaaaaaaaaaaaaaaaaaa  \\\n",
       "if you do decide to drive in for  coldplayhoust...                                   0.0   \n",
       "as hurricane harvey is fast approaching  now is...                                   0.0   \n",
       "is  jerryjordan ktt providing live  hurricaneha...                                   0.0   \n",
       "i m waiting for a steve harvey hurricane meme                                        0.0   \n",
       "the name of the hurricane is harvey     steve h...                                   0.0   \n",
       " realdonaldtrump is a shitshow when nothing s g...                                   0.0   \n",
       "if you re able  give blood at  redcross   donat...                                   0.0   \n",
       "summary for hurricane harvey       http   fb me  �                                   0.0   \n",
       "nasa  rt esa eo  just in     measures  hurrican...                                   0.0   \n",
       " life threatening  hurricane harvey heads towar...                                   0.0   \n",
       "\n",
       "                                                    aaaaaaaaaaaaaaaaand  \\\n",
       "if you do decide to drive in for  coldplayhoust...                  0.0   \n",
       "as hurricane harvey is fast approaching  now is...                  0.0   \n",
       "is  jerryjordan ktt providing live  hurricaneha...                  0.0   \n",
       "i m waiting for a steve harvey hurricane meme                       0.0   \n",
       "the name of the hurricane is harvey     steve h...                  0.0   \n",
       " realdonaldtrump is a shitshow when nothing s g...                  0.0   \n",
       "if you re able  give blood at  redcross   donat...                  0.0   \n",
       "summary for hurricane harvey       http   fb me  �                  0.0   \n",
       "nasa  rt esa eo  just in     measures  hurrican...                  0.0   \n",
       " life threatening  hurricane harvey heads towar...                  0.0   \n",
       "\n",
       "                                                    aaaaaaah  aaaaaaand  \\\n",
       "if you do decide to drive in for  coldplayhoust...       0.0        0.0   \n",
       "as hurricane harvey is fast approaching  now is...       0.0        0.0   \n",
       "is  jerryjordan ktt providing live  hurricaneha...       0.0        0.0   \n",
       "i m waiting for a steve harvey hurricane meme            0.0        0.0   \n",
       "the name of the hurricane is harvey     steve h...       0.0        0.0   \n",
       " realdonaldtrump is a shitshow when nothing s g...       0.0        0.0   \n",
       "if you re able  give blood at  redcross   donat...       0.0        0.0   \n",
       "summary for hurricane harvey       http   fb me  �       0.0        0.0   \n",
       "nasa  rt esa eo  just in     measures  hurrican...       0.0        0.0   \n",
       " life threatening  hurricane harvey heads towar...       0.0        0.0   \n",
       "\n",
       "                                                    aaaaaaaye  ...  \\\n",
       "if you do decide to drive in for  coldplayhoust...        0.0  ...   \n",
       "as hurricane harvey is fast approaching  now is...        0.0  ...   \n",
       "is  jerryjordan ktt providing live  hurricaneha...        0.0  ...   \n",
       "i m waiting for a steve harvey hurricane meme             0.0  ...   \n",
       "the name of the hurricane is harvey     steve h...        0.0  ...   \n",
       " realdonaldtrump is a shitshow when nothing s g...        0.0  ...   \n",
       "if you re able  give blood at  redcross   donat...        0.0  ...   \n",
       "summary for hurricane harvey       http   fb me  �        0.0  ...   \n",
       "nasa  rt esa eo  just in     measures  hurrican...        0.0  ...   \n",
       " life threatening  hurricane harvey heads towar...        0.0  ...   \n",
       "\n",
       "                                                    zzqjgutjin  zzqpokqleri  \\\n",
       "if you do decide to drive in for  coldplayhoust...         0.0          0.0   \n",
       "as hurricane harvey is fast approaching  now is...         0.0          0.0   \n",
       "is  jerryjordan ktt providing live  hurricaneha...         0.0          0.0   \n",
       "i m waiting for a steve harvey hurricane meme              0.0          0.0   \n",
       "the name of the hurricane is harvey     steve h...         0.0          0.0   \n",
       " realdonaldtrump is a shitshow when nothing s g...         0.0          0.0   \n",
       "if you re able  give blood at  redcross   donat...         0.0          0.0   \n",
       "summary for hurricane harvey       http   fb me  �         0.0          0.0   \n",
       "nasa  rt esa eo  just in     measures  hurrican...         0.0          0.0   \n",
       " life threatening  hurricane harvey heads towar...         0.0          0.0   \n",
       "\n",
       "                                                    zzrolqyq  zzsaunubjz  \\\n",
       "if you do decide to drive in for  coldplayhoust...       0.0         0.0   \n",
       "as hurricane harvey is fast approaching  now is...       0.0         0.0   \n",
       "is  jerryjordan ktt providing live  hurricaneha...       0.0         0.0   \n",
       "i m waiting for a steve harvey hurricane meme            0.0         0.0   \n",
       "the name of the hurricane is harvey     steve h...       0.0         0.0   \n",
       " realdonaldtrump is a shitshow when nothing s g...       0.0         0.0   \n",
       "if you re able  give blood at  redcross   donat...       0.0         0.0   \n",
       "summary for hurricane harvey       http   fb me  �       0.0         0.0   \n",
       "nasa  rt esa eo  just in     measures  hurrican...       0.0         0.0   \n",
       " life threatening  hurricane harvey heads towar...       0.0         0.0   \n",
       "\n",
       "                                                    zzspqt  zztop  zzvncgpmxq  \\\n",
       "if you do decide to drive in for  coldplayhoust...     0.0    0.0         0.0   \n",
       "as hurricane harvey is fast approaching  now is...     0.0    0.0         0.0   \n",
       "is  jerryjordan ktt providing live  hurricaneha...     0.0    0.0         0.0   \n",
       "i m waiting for a steve harvey hurricane meme          0.0    0.0         0.0   \n",
       "the name of the hurricane is harvey     steve h...     0.0    0.0         0.0   \n",
       " realdonaldtrump is a shitshow when nothing s g...     0.0    0.0         0.0   \n",
       "if you re able  give blood at  redcross   donat...     0.0    0.0         0.0   \n",
       "summary for hurricane harvey       http   fb me  �     0.0    0.0         0.0   \n",
       "nasa  rt esa eo  just in     measures  hurrican...     0.0    0.0         0.0   \n",
       " life threatening  hurricane harvey heads towar...     0.0    0.0         0.0   \n",
       "\n",
       "                                                    zzxrjvbrid  zzz  zzzxgnbk  \n",
       "if you do decide to drive in for  coldplayhoust...         0.0  0.0       0.0  \n",
       "as hurricane harvey is fast approaching  now is...         0.0  0.0       0.0  \n",
       "is  jerryjordan ktt providing live  hurricaneha...         0.0  0.0       0.0  \n",
       "i m waiting for a steve harvey hurricane meme              0.0  0.0       0.0  \n",
       "the name of the hurricane is harvey     steve h...         0.0  0.0       0.0  \n",
       " realdonaldtrump is a shitshow when nothing s g...         0.0  0.0       0.0  \n",
       "if you re able  give blood at  redcross   donat...         0.0  0.0       0.0  \n",
       "summary for hurricane harvey       http   fb me  �         0.0  0.0       0.0  \n",
       "nasa  rt esa eo  just in     measures  hurrican...         0.0  0.0       0.0  \n",
       " life threatening  hurricane harvey heads towar...         0.0  0.0       0.0  \n",
       "\n",
       "[10 rows x 104076 columns]"
      ]
     },
     "execution_count": 12,
     "metadata": {},
     "output_type": "execute_result"
    }
   ],
   "source": [
    "tfidf = TfidfVectorizer(stop_words=stop_words, preprocessor = preprocessor)\n",
    "\n",
    "tweet_word_matrix = tfidf.fit_transform(list_of_tweets)\n",
    "\n",
    "vocab = tfidf.get_feature_names()\n",
    "\n",
    "pd.DataFrame(tweet_word_matrix.toarray(), index=list_of_tweets, columns=tfidf.get_feature_names()).head(10)"
   ]
  },
  {
   "cell_type": "code",
   "execution_count": null,
   "id": "d5ccafff",
   "metadata": {
    "scrolled": true
   },
   "outputs": [],
   "source": [
    "# vectorizer = CountVectorizer(stop_words= stop_words)\n",
    "# doc_word = vectorizer.fit_transform(list_of_tweets)\n"
   ]
  },
  {
   "cell_type": "code",
   "execution_count": 13,
   "id": "62a6393f",
   "metadata": {},
   "outputs": [],
   "source": [
    "nmf_model = NMF(10)\n"
   ]
  },
  {
   "cell_type": "code",
   "execution_count": 14,
   "id": "202f7b94",
   "metadata": {},
   "outputs": [],
   "source": [
    "doc_topic = nmf_model.fit_transform(tweet_word_matrix)"
   ]
  },
  {
   "cell_type": "code",
   "execution_count": 15,
   "id": "ae7a7306",
   "metadata": {},
   "outputs": [
    {
     "data": {
      "text/html": [
       "<div>\n",
       "<style scoped>\n",
       "    .dataframe tbody tr th:only-of-type {\n",
       "        vertical-align: middle;\n",
       "    }\n",
       "\n",
       "    .dataframe tbody tr th {\n",
       "        vertical-align: top;\n",
       "    }\n",
       "\n",
       "    .dataframe thead th {\n",
       "        text-align: right;\n",
       "    }\n",
       "</style>\n",
       "<table border=\"1\" class=\"dataframe\">\n",
       "  <thead>\n",
       "    <tr style=\"text-align: right;\">\n",
       "      <th></th>\n",
       "      <th>aa</th>\n",
       "      <th>aaa</th>\n",
       "      <th>aaaa</th>\n",
       "      <th>aaaaaa</th>\n",
       "      <th>aaaaaaaa</th>\n",
       "      <th>aaaaaaaaaaaaaaaaaaaaaaaaaaaaaaaaaaaa</th>\n",
       "      <th>aaaaaaaaaaaaaaaaand</th>\n",
       "      <th>aaaaaaah</th>\n",
       "      <th>aaaaaaand</th>\n",
       "      <th>aaaaaaaye</th>\n",
       "      <th>...</th>\n",
       "      <th>zzqjgutjin</th>\n",
       "      <th>zzqpokqleri</th>\n",
       "      <th>zzrolqyq</th>\n",
       "      <th>zzsaunubjz</th>\n",
       "      <th>zzspqt</th>\n",
       "      <th>zztop</th>\n",
       "      <th>zzvncgpmxq</th>\n",
       "      <th>zzxrjvbrid</th>\n",
       "      <th>zzz</th>\n",
       "      <th>zzzxgnbk</th>\n",
       "    </tr>\n",
       "  </thead>\n",
       "  <tbody>\n",
       "    <tr>\n",
       "      <th>component_1</th>\n",
       "      <td>0.000</td>\n",
       "      <td>0.000</td>\n",
       "      <td>0.0</td>\n",
       "      <td>0.0</td>\n",
       "      <td>0.0</td>\n",
       "      <td>0.0</td>\n",
       "      <td>0.0</td>\n",
       "      <td>0.0</td>\n",
       "      <td>0.0</td>\n",
       "      <td>0.0</td>\n",
       "      <td>...</td>\n",
       "      <td>0.0</td>\n",
       "      <td>0.0</td>\n",
       "      <td>0.0</td>\n",
       "      <td>0.0</td>\n",
       "      <td>0.000</td>\n",
       "      <td>0.0</td>\n",
       "      <td>0.0</td>\n",
       "      <td>0.0</td>\n",
       "      <td>0.000</td>\n",
       "      <td>0.0</td>\n",
       "    </tr>\n",
       "    <tr>\n",
       "      <th>component_2</th>\n",
       "      <td>0.006</td>\n",
       "      <td>0.000</td>\n",
       "      <td>0.0</td>\n",
       "      <td>0.0</td>\n",
       "      <td>0.0</td>\n",
       "      <td>0.0</td>\n",
       "      <td>0.0</td>\n",
       "      <td>0.0</td>\n",
       "      <td>0.0</td>\n",
       "      <td>0.0</td>\n",
       "      <td>...</td>\n",
       "      <td>0.0</td>\n",
       "      <td>0.0</td>\n",
       "      <td>0.0</td>\n",
       "      <td>0.0</td>\n",
       "      <td>0.000</td>\n",
       "      <td>0.0</td>\n",
       "      <td>0.0</td>\n",
       "      <td>0.0</td>\n",
       "      <td>0.000</td>\n",
       "      <td>0.0</td>\n",
       "    </tr>\n",
       "    <tr>\n",
       "      <th>component_3</th>\n",
       "      <td>0.000</td>\n",
       "      <td>0.000</td>\n",
       "      <td>0.0</td>\n",
       "      <td>0.0</td>\n",
       "      <td>0.0</td>\n",
       "      <td>0.0</td>\n",
       "      <td>0.0</td>\n",
       "      <td>0.0</td>\n",
       "      <td>0.0</td>\n",
       "      <td>0.0</td>\n",
       "      <td>...</td>\n",
       "      <td>0.0</td>\n",
       "      <td>0.0</td>\n",
       "      <td>0.0</td>\n",
       "      <td>0.0</td>\n",
       "      <td>0.000</td>\n",
       "      <td>0.0</td>\n",
       "      <td>0.0</td>\n",
       "      <td>0.0</td>\n",
       "      <td>0.000</td>\n",
       "      <td>0.0</td>\n",
       "    </tr>\n",
       "    <tr>\n",
       "      <th>component_4</th>\n",
       "      <td>0.000</td>\n",
       "      <td>0.000</td>\n",
       "      <td>0.0</td>\n",
       "      <td>0.0</td>\n",
       "      <td>0.0</td>\n",
       "      <td>0.0</td>\n",
       "      <td>0.0</td>\n",
       "      <td>0.0</td>\n",
       "      <td>0.0</td>\n",
       "      <td>0.0</td>\n",
       "      <td>...</td>\n",
       "      <td>0.0</td>\n",
       "      <td>0.0</td>\n",
       "      <td>0.0</td>\n",
       "      <td>0.0</td>\n",
       "      <td>0.000</td>\n",
       "      <td>0.0</td>\n",
       "      <td>0.0</td>\n",
       "      <td>0.0</td>\n",
       "      <td>0.000</td>\n",
       "      <td>0.0</td>\n",
       "    </tr>\n",
       "    <tr>\n",
       "      <th>component_5</th>\n",
       "      <td>0.001</td>\n",
       "      <td>0.000</td>\n",
       "      <td>0.0</td>\n",
       "      <td>0.0</td>\n",
       "      <td>0.0</td>\n",
       "      <td>0.0</td>\n",
       "      <td>0.0</td>\n",
       "      <td>0.0</td>\n",
       "      <td>0.0</td>\n",
       "      <td>0.0</td>\n",
       "      <td>...</td>\n",
       "      <td>0.0</td>\n",
       "      <td>0.0</td>\n",
       "      <td>0.0</td>\n",
       "      <td>0.0</td>\n",
       "      <td>0.000</td>\n",
       "      <td>0.0</td>\n",
       "      <td>0.0</td>\n",
       "      <td>0.0</td>\n",
       "      <td>0.001</td>\n",
       "      <td>0.0</td>\n",
       "    </tr>\n",
       "    <tr>\n",
       "      <th>component_6</th>\n",
       "      <td>0.000</td>\n",
       "      <td>0.002</td>\n",
       "      <td>0.0</td>\n",
       "      <td>0.0</td>\n",
       "      <td>0.0</td>\n",
       "      <td>0.0</td>\n",
       "      <td>0.0</td>\n",
       "      <td>0.0</td>\n",
       "      <td>0.0</td>\n",
       "      <td>0.0</td>\n",
       "      <td>...</td>\n",
       "      <td>0.0</td>\n",
       "      <td>0.0</td>\n",
       "      <td>0.0</td>\n",
       "      <td>0.0</td>\n",
       "      <td>0.000</td>\n",
       "      <td>0.0</td>\n",
       "      <td>0.0</td>\n",
       "      <td>0.0</td>\n",
       "      <td>0.000</td>\n",
       "      <td>0.0</td>\n",
       "    </tr>\n",
       "    <tr>\n",
       "      <th>component_7</th>\n",
       "      <td>0.000</td>\n",
       "      <td>0.000</td>\n",
       "      <td>0.0</td>\n",
       "      <td>0.0</td>\n",
       "      <td>0.0</td>\n",
       "      <td>0.0</td>\n",
       "      <td>0.0</td>\n",
       "      <td>0.0</td>\n",
       "      <td>0.0</td>\n",
       "      <td>0.0</td>\n",
       "      <td>...</td>\n",
       "      <td>0.0</td>\n",
       "      <td>0.0</td>\n",
       "      <td>0.0</td>\n",
       "      <td>0.0</td>\n",
       "      <td>0.000</td>\n",
       "      <td>0.0</td>\n",
       "      <td>0.0</td>\n",
       "      <td>0.0</td>\n",
       "      <td>0.000</td>\n",
       "      <td>0.0</td>\n",
       "    </tr>\n",
       "    <tr>\n",
       "      <th>component_8</th>\n",
       "      <td>0.000</td>\n",
       "      <td>0.000</td>\n",
       "      <td>0.0</td>\n",
       "      <td>0.0</td>\n",
       "      <td>0.0</td>\n",
       "      <td>0.0</td>\n",
       "      <td>0.0</td>\n",
       "      <td>0.0</td>\n",
       "      <td>0.0</td>\n",
       "      <td>0.0</td>\n",
       "      <td>...</td>\n",
       "      <td>0.0</td>\n",
       "      <td>0.0</td>\n",
       "      <td>0.0</td>\n",
       "      <td>0.0</td>\n",
       "      <td>0.000</td>\n",
       "      <td>0.0</td>\n",
       "      <td>0.0</td>\n",
       "      <td>0.0</td>\n",
       "      <td>0.000</td>\n",
       "      <td>0.0</td>\n",
       "    </tr>\n",
       "    <tr>\n",
       "      <th>component_9</th>\n",
       "      <td>0.000</td>\n",
       "      <td>0.000</td>\n",
       "      <td>0.0</td>\n",
       "      <td>0.0</td>\n",
       "      <td>0.0</td>\n",
       "      <td>0.0</td>\n",
       "      <td>0.0</td>\n",
       "      <td>0.0</td>\n",
       "      <td>0.0</td>\n",
       "      <td>0.0</td>\n",
       "      <td>...</td>\n",
       "      <td>0.0</td>\n",
       "      <td>0.0</td>\n",
       "      <td>0.0</td>\n",
       "      <td>0.0</td>\n",
       "      <td>0.001</td>\n",
       "      <td>0.0</td>\n",
       "      <td>0.0</td>\n",
       "      <td>0.0</td>\n",
       "      <td>0.000</td>\n",
       "      <td>0.0</td>\n",
       "    </tr>\n",
       "    <tr>\n",
       "      <th>component_10</th>\n",
       "      <td>0.000</td>\n",
       "      <td>0.004</td>\n",
       "      <td>0.0</td>\n",
       "      <td>0.0</td>\n",
       "      <td>0.0</td>\n",
       "      <td>0.0</td>\n",
       "      <td>0.0</td>\n",
       "      <td>0.0</td>\n",
       "      <td>0.0</td>\n",
       "      <td>0.0</td>\n",
       "      <td>...</td>\n",
       "      <td>0.0</td>\n",
       "      <td>0.0</td>\n",
       "      <td>0.0</td>\n",
       "      <td>0.0</td>\n",
       "      <td>0.000</td>\n",
       "      <td>0.0</td>\n",
       "      <td>0.0</td>\n",
       "      <td>0.0</td>\n",
       "      <td>0.000</td>\n",
       "      <td>0.0</td>\n",
       "    </tr>\n",
       "  </tbody>\n",
       "</table>\n",
       "<p>10 rows × 104076 columns</p>\n",
       "</div>"
      ],
      "text/plain": [
       "                 aa    aaa  aaaa  aaaaaa  aaaaaaaa  \\\n",
       "component_1   0.000  0.000   0.0     0.0       0.0   \n",
       "component_2   0.006  0.000   0.0     0.0       0.0   \n",
       "component_3   0.000  0.000   0.0     0.0       0.0   \n",
       "component_4   0.000  0.000   0.0     0.0       0.0   \n",
       "component_5   0.001  0.000   0.0     0.0       0.0   \n",
       "component_6   0.000  0.002   0.0     0.0       0.0   \n",
       "component_7   0.000  0.000   0.0     0.0       0.0   \n",
       "component_8   0.000  0.000   0.0     0.0       0.0   \n",
       "component_9   0.000  0.000   0.0     0.0       0.0   \n",
       "component_10  0.000  0.004   0.0     0.0       0.0   \n",
       "\n",
       "              aaaaaaaaaaaaaaaaaaaaaaaaaaaaaaaaaaaa  aaaaaaaaaaaaaaaaand  \\\n",
       "component_1                                    0.0                  0.0   \n",
       "component_2                                    0.0                  0.0   \n",
       "component_3                                    0.0                  0.0   \n",
       "component_4                                    0.0                  0.0   \n",
       "component_5                                    0.0                  0.0   \n",
       "component_6                                    0.0                  0.0   \n",
       "component_7                                    0.0                  0.0   \n",
       "component_8                                    0.0                  0.0   \n",
       "component_9                                    0.0                  0.0   \n",
       "component_10                                   0.0                  0.0   \n",
       "\n",
       "              aaaaaaah  aaaaaaand  aaaaaaaye  ...  zzqjgutjin  zzqpokqleri  \\\n",
       "component_1        0.0        0.0        0.0  ...         0.0          0.0   \n",
       "component_2        0.0        0.0        0.0  ...         0.0          0.0   \n",
       "component_3        0.0        0.0        0.0  ...         0.0          0.0   \n",
       "component_4        0.0        0.0        0.0  ...         0.0          0.0   \n",
       "component_5        0.0        0.0        0.0  ...         0.0          0.0   \n",
       "component_6        0.0        0.0        0.0  ...         0.0          0.0   \n",
       "component_7        0.0        0.0        0.0  ...         0.0          0.0   \n",
       "component_8        0.0        0.0        0.0  ...         0.0          0.0   \n",
       "component_9        0.0        0.0        0.0  ...         0.0          0.0   \n",
       "component_10       0.0        0.0        0.0  ...         0.0          0.0   \n",
       "\n",
       "              zzrolqyq  zzsaunubjz  zzspqt  zztop  zzvncgpmxq  zzxrjvbrid  \\\n",
       "component_1        0.0         0.0   0.000    0.0         0.0         0.0   \n",
       "component_2        0.0         0.0   0.000    0.0         0.0         0.0   \n",
       "component_3        0.0         0.0   0.000    0.0         0.0         0.0   \n",
       "component_4        0.0         0.0   0.000    0.0         0.0         0.0   \n",
       "component_5        0.0         0.0   0.000    0.0         0.0         0.0   \n",
       "component_6        0.0         0.0   0.000    0.0         0.0         0.0   \n",
       "component_7        0.0         0.0   0.000    0.0         0.0         0.0   \n",
       "component_8        0.0         0.0   0.000    0.0         0.0         0.0   \n",
       "component_9        0.0         0.0   0.001    0.0         0.0         0.0   \n",
       "component_10       0.0         0.0   0.000    0.0         0.0         0.0   \n",
       "\n",
       "                zzz  zzzxgnbk  \n",
       "component_1   0.000       0.0  \n",
       "component_2   0.000       0.0  \n",
       "component_3   0.000       0.0  \n",
       "component_4   0.000       0.0  \n",
       "component_5   0.001       0.0  \n",
       "component_6   0.000       0.0  \n",
       "component_7   0.000       0.0  \n",
       "component_8   0.000       0.0  \n",
       "component_9   0.000       0.0  \n",
       "component_10  0.000       0.0  \n",
       "\n",
       "[10 rows x 104076 columns]"
      ]
     },
     "execution_count": 15,
     "metadata": {},
     "output_type": "execute_result"
    }
   ],
   "source": [
    "topic_word = pd.DataFrame(nmf_model.components_.round(3),\n",
    "             index = [\"component_1\",\"component_2\",\"component_3\",\"component_4\",\"component_5\",\"component_6\",\"component_7\",\"component_8\",\"component_9\",\"component_10\"],\n",
    "             columns = tfidf.get_feature_names())\n",
    "topic_word"
   ]
  },
  {
   "cell_type": "code",
   "execution_count": 16,
   "id": "39b8df8a",
   "metadata": {},
   "outputs": [],
   "source": [
    "def display_topics(model, feature_names, no_top_words, topic_names=None):\n",
    "    for ix, topic in enumerate(model.components_):\n",
    "        if not topic_names or not topic_names[ix]:\n",
    "            print(\"\\nTopic \", ix)\n",
    "        else:\n",
    "            print(\"\\nTopic: '\",topic_names[ix],\"'\")\n",
    "        print(\", \".join([feature_names[i]\n",
    "                        for i in topic.argsort()[:-no_top_words - 1:-1]]))"
   ]
  },
  {
   "cell_type": "code",
   "execution_count": 17,
   "id": "9c8f7ae9",
   "metadata": {},
   "outputs": [
    {
     "name": "stdout",
     "output_type": "stream",
     "text": [
      "\n",
      "Topic  0\n",
      "space, seen, station, international, cupola, nasa, ift, tt, nasapic, gov\n",
      "\n",
      "Topic  1\n",
      "category, storm, strengthens, winds, mph, upgraded, breaking, downgraded, abc, sustained\n",
      "\n",
      "Topic  2\n",
      "safe, stay, friends, hope, path, praying, status, thinking, family, stays\n",
      "\n",
      "Topic  3\n",
      "jeff, piotrowski, tv, pscp, live, periscope, winds, mph, damaging, gusting\n",
      "\n",
      "Topic  4\n",
      "youtube, youtu, video, live, liked, watch, coverage, feature, charts, insanity\n",
      "\n",
      "Topic  5\n",
      "tt, ift, coast, new, nyt, times, roars, york, storm, houston\n",
      "\n",
      "Topic  6\n",
      "landfall, makes, make, latest, near, updates, corpus, christi, powerful, cat\n",
      "\n",
      "Topic  7\n",
      "prayers, path, thoughts, affected, praying, people, sending, safety, going, god\n",
      "\n",
      "Topic  8\n",
      "news, trump, fb, disaster, cnn, bbc, apple, major, world, canada\n",
      "\n",
      "Topic  9\n",
      "ly, bit, ow, coast, buff, help, gulf, en, usat, storm\n"
     ]
    }
   ],
   "source": [
    "display_topics(nmf_model, tfidf.get_feature_names(), 10)"
   ]
  },
  {
   "cell_type": "code",
   "execution_count": null,
   "id": "f7882470",
   "metadata": {},
   "outputs": [],
   "source": [
    "## Label topics explicitly \n"
   ]
  },
  {
   "cell_type": "code",
   "execution_count": null,
   "id": "f644cd0e",
   "metadata": {},
   "outputs": [],
   "source": [
    "## Richard recommends geographic clusters of tweets being discussed \n",
    "## Cluster based on lat/long \n"
   ]
  },
  {
   "cell_type": "markdown",
   "id": "ef4f3a1c",
   "metadata": {},
   "source": [
    "<B> CREATING A WORD CLOUD: </B>"
   ]
  },
  {
   "cell_type": "code",
   "execution_count": null,
   "id": "62d5668f",
   "metadata": {},
   "outputs": [],
   "source": []
  },
  {
   "cell_type": "code",
   "execution_count": 32,
   "id": "3d3de309",
   "metadata": {},
   "outputs": [],
   "source": [
    "from wordcloud import WordCloud, STOPWORDS, ImageColorGenerator"
   ]
  },
  {
   "cell_type": "code",
   "execution_count": 33,
   "id": "b73b9657",
   "metadata": {},
   "outputs": [],
   "source": [
    "def create_wordcloud(wordcloud_series):\n",
    "    df_text = ' '.join(str(wordcloud_series).lower() for v in wordcloud_series)\n",
    "    wordcloud = WordCloud(stopwords = None, random_state = 20, background_color = 'white',\n",
    "                      collocations=True).generate(df_text)\n",
    "    plt.imshow(wordcloud, interpolation='bilInear')\n",
    "    plt.axis('off')\n",
    "    plt.show()"
   ]
  },
  {
   "cell_type": "code",
   "execution_count": 131,
   "id": "90752a33",
   "metadata": {},
   "outputs": [
    {
     "data": {
      "image/png": "[encoded data removed]",
      "text/plain": [
       "<Figure size 432x288 with 1 Axes>"
      ]
     },
     "metadata": {
      "needs_background": "light"
     },
     "output_type": "display_data"
    }
   ],
   "source": [
    "create_wordcloud(Hurricane_Tweets['Tweet'])"
   ]
  },
  {
   "cell_type": "code",
   "execution_count": 136,
   "id": "7a32906d",
   "metadata": {},
   "outputs": [
    {
     "ename": "NameError",
     "evalue": "name 'nmf_model' is not defined",
     "output_type": "error",
     "traceback": [
      "\u001b[0;31m---------------------------------------------------------------------------\u001b[0m",
      "\u001b[0;31mNameError\u001b[0m                                 Traceback (most recent call last)",
      "\u001b[0;32m<ipython-input-136-e4e6aeb89505>\u001b[0m in \u001b[0;36m<module>\u001b[0;34m\u001b[0m\n\u001b[0;32m----> 1\u001b[0;31m \u001b[0mcreate_wordcloud\u001b[0m\u001b[0;34m(\u001b[0m\u001b[0mnmf_model\u001b[0m\u001b[0;34m)\u001b[0m\u001b[0;34m\u001b[0m\u001b[0;34m\u001b[0m\u001b[0m\n\u001b[0m",
      "\u001b[0;31mNameError\u001b[0m: name 'nmf_model' is not defined"
     ]
    }
   ],
   "source": [
    "create_wordcloud(word_topic)"
   ]
  },
  {
   "cell_type": "code",
   "execution_count": null,
   "id": "f9064ba4",
   "metadata": {},
   "outputs": [],
   "source": []
  },
  {
   "cell_type": "markdown",
   "id": "ef539cfc",
   "metadata": {},
   "source": [
    "\n",
    "\n",
    "\n"
   ]
  },
  {
   "cell_type": "markdown",
   "id": "ce49fe18",
   "metadata": {},
   "source": [
    " \n"
   ]
  },
  {
   "cell_type": "markdown",
   "id": "86d0df38",
   "metadata": {},
   "source": [
    " "
   ]
  },
  {
   "cell_type": "markdown",
   "id": "1684d3a0",
   "metadata": {},
   "source": [
    "<B> BELOW WILL BE THE GEOPARSING first using Mordecai through Spacy</B>"
   ]
  },
  {
   "cell_type": "code",
   "execution_count": 18,
   "id": "9a9a0e8f",
   "metadata": {},
   "outputs": [
    {
     "data": {
      "text/html": [
       "<div>\n",
       "<style scoped>\n",
       "    .dataframe tbody tr th:only-of-type {\n",
       "        vertical-align: middle;\n",
       "    }\n",
       "\n",
       "    .dataframe tbody tr th {\n",
       "        vertical-align: top;\n",
       "    }\n",
       "\n",
       "    .dataframe thead th {\n",
       "        text-align: right;\n",
       "    }\n",
       "</style>\n",
       "<table border=\"1\" class=\"dataframe\">\n",
       "  <thead>\n",
       "    <tr style=\"text-align: right;\">\n",
       "      <th></th>\n",
       "      <th>Tweet</th>\n",
       "    </tr>\n",
       "  </thead>\n",
       "  <tbody>\n",
       "    <tr>\n",
       "      <th>0</th>\n",
       "      <td>if you do decide to drive in for  coldplayhous...</td>\n",
       "    </tr>\n",
       "    <tr>\n",
       "      <th>1</th>\n",
       "      <td>as hurricane harvey is fast approaching  now i...</td>\n",
       "    </tr>\n",
       "    <tr>\n",
       "      <th>2</th>\n",
       "      <td>is  jerryjordan ktt providing live  hurricaneh...</td>\n",
       "    </tr>\n",
       "    <tr>\n",
       "      <th>3</th>\n",
       "      <td>i m waiting for a steve harvey hurricane meme</td>\n",
       "    </tr>\n",
       "    <tr>\n",
       "      <th>4</th>\n",
       "      <td>the name of the hurricane is harvey     steve ...</td>\n",
       "    </tr>\n",
       "  </tbody>\n",
       "</table>\n",
       "</div>"
      ],
      "text/plain": [
       "                                               Tweet\n",
       "0  if you do decide to drive in for  coldplayhous...\n",
       "1  as hurricane harvey is fast approaching  now i...\n",
       "2  is  jerryjordan ktt providing live  hurricaneh...\n",
       "3      i m waiting for a steve harvey hurricane meme\n",
       "4  the name of the hurricane is harvey     steve ..."
      ]
     },
     "execution_count": 18,
     "metadata": {},
     "output_type": "execute_result"
    }
   ],
   "source": [
    "Hurricane_Tweets.head()"
   ]
  },
  {
   "cell_type": "code",
   "execution_count": 30,
   "id": "b71ef1db",
   "metadata": {},
   "outputs": [],
   "source": [
    "import requests "
   ]
  },
  {
   "cell_type": "code",
   "execution_count": 34,
   "id": "2ea3442f",
   "metadata": {},
   "outputs": [
    {
     "data": {
      "text/plain": [
       "<Response [200]>"
      ]
     },
     "execution_count": 34,
     "metadata": {},
     "output_type": "execute_result"
    }
   ],
   "source": [
    "requests.get('http://google.com')"
   ]
  },
  {
   "cell_type": "code",
   "execution_count": 2,
   "id": "62426c40",
   "metadata": {},
   "outputs": [
    {
     "name": "stdout",
     "output_type": "stream",
     "text": [
      "Models path: /Users/rachelbryn/opt/anaconda3/envs/metis/lib/python3.8/site-packages/mordecai/models/\n"
     ]
    },
    {
     "name": "stderr",
     "output_type": "stream",
     "text": [
      "GET http://localhost:9200/geonames/_count [status:N/A request:0.010s]\n",
      "Traceback (most recent call last):\n",
      "  File \"/Users/rachelbryn/opt/anaconda3/envs/metis/lib/python3.8/site-packages/urllib3/connection.py\", line 169, in _new_conn\n",
      "    conn = connection.create_connection(\n",
      "  File \"/Users/rachelbryn/opt/anaconda3/envs/metis/lib/python3.8/site-packages/urllib3/util/connection.py\", line 96, in create_connection\n",
      "    raise err\n",
      "  File \"/Users/rachelbryn/opt/anaconda3/envs/metis/lib/python3.8/site-packages/urllib3/util/connection.py\", line 86, in create_connection\n",
      "    sock.connect(sa)\n",
      "ConnectionRefusedError: [Errno 61] Connection refused\n",
      "\n",
      "During handling of the above exception, another exception occurred:\n",
      "\n",
      "Traceback (most recent call last):\n",
      "  File \"/Users/rachelbryn/opt/anaconda3/envs/metis/lib/python3.8/site-packages/elasticsearch/connection/http_urllib3.py\", line 114, in perform_request\n",
      "    response = self.pool.urlopen(method, url, body, retries=False, headers=self.headers, **kw)\n",
      "  File \"/Users/rachelbryn/opt/anaconda3/envs/metis/lib/python3.8/site-packages/urllib3/connectionpool.py\", line 755, in urlopen\n",
      "    retries = retries.increment(\n",
      "  File \"/Users/rachelbryn/opt/anaconda3/envs/metis/lib/python3.8/site-packages/urllib3/util/retry.py\", line 507, in increment\n",
      "    raise six.reraise(type(error), error, _stacktrace)\n",
      "  File \"/Users/rachelbryn/opt/anaconda3/envs/metis/lib/python3.8/site-packages/urllib3/packages/six.py\", line 770, in reraise\n",
      "    raise value\n",
      "  File \"/Users/rachelbryn/opt/anaconda3/envs/metis/lib/python3.8/site-packages/urllib3/connectionpool.py\", line 699, in urlopen\n",
      "    httplib_response = self._make_request(\n",
      "  File \"/Users/rachelbryn/opt/anaconda3/envs/metis/lib/python3.8/site-packages/urllib3/connectionpool.py\", line 394, in _make_request\n",
      "    conn.request(method, url, **httplib_request_kw)\n",
      "  File \"/Users/rachelbryn/opt/anaconda3/envs/metis/lib/python3.8/site-packages/urllib3/connection.py\", line 234, in request\n",
      "    super(HTTPConnection, self).request(method, url, body=body, headers=headers)\n",
      "  File \"/Users/rachelbryn/opt/anaconda3/envs/metis/lib/python3.8/http/client.py\", line 1252, in request\n",
      "    self._send_request(method, url, body, headers, encode_chunked)\n",
      "  File \"/Users/rachelbryn/opt/anaconda3/envs/metis/lib/python3.8/http/client.py\", line 1298, in _send_request\n",
      "    self.endheaders(body, encode_chunked=encode_chunked)\n",
      "  File \"/Users/rachelbryn/opt/anaconda3/envs/metis/lib/python3.8/http/client.py\", line 1247, in endheaders\n",
      "    self._send_output(message_body, encode_chunked=encode_chunked)\n",
      "  File \"/Users/rachelbryn/opt/anaconda3/envs/metis/lib/python3.8/http/client.py\", line 1007, in _send_output\n",
      "    self.send(msg)\n",
      "  File \"/Users/rachelbryn/opt/anaconda3/envs/metis/lib/python3.8/http/client.py\", line 947, in send\n",
      "    self.connect()\n",
      "  File \"/Users/rachelbryn/opt/anaconda3/envs/metis/lib/python3.8/site-packages/urllib3/connection.py\", line 200, in connect\n",
      "    conn = self._new_conn()\n",
      "  File \"/Users/rachelbryn/opt/anaconda3/envs/metis/lib/python3.8/site-packages/urllib3/connection.py\", line 181, in _new_conn\n",
      "    raise NewConnectionError(\n",
      "urllib3.exceptions.NewConnectionError: <urllib3.connection.HTTPConnection object at 0x1ba8896d0>: Failed to establish a new connection: [Errno 61] Connection refused\n",
      "GET http://localhost:9200/geonames/_count [status:N/A request:0.002s]\n",
      "Traceback (most recent call last):\n",
      "  File \"/Users/rachelbryn/opt/anaconda3/envs/metis/lib/python3.8/site-packages/urllib3/connection.py\", line 169, in _new_conn\n",
      "    conn = connection.create_connection(\n",
      "  File \"/Users/rachelbryn/opt/anaconda3/envs/metis/lib/python3.8/site-packages/urllib3/util/connection.py\", line 96, in create_connection\n",
      "    raise err\n",
      "  File \"/Users/rachelbryn/opt/anaconda3/envs/metis/lib/python3.8/site-packages/urllib3/util/connection.py\", line 86, in create_connection\n",
      "    sock.connect(sa)\n",
      "ConnectionRefusedError: [Errno 61] Connection refused\n",
      "\n",
      "During handling of the above exception, another exception occurred:\n",
      "\n",
      "Traceback (most recent call last):\n",
      "  File \"/Users/rachelbryn/opt/anaconda3/envs/metis/lib/python3.8/site-packages/elasticsearch/connection/http_urllib3.py\", line 114, in perform_request\n",
      "    response = self.pool.urlopen(method, url, body, retries=False, headers=self.headers, **kw)\n",
      "  File \"/Users/rachelbryn/opt/anaconda3/envs/metis/lib/python3.8/site-packages/urllib3/connectionpool.py\", line 755, in urlopen\n",
      "    retries = retries.increment(\n",
      "  File \"/Users/rachelbryn/opt/anaconda3/envs/metis/lib/python3.8/site-packages/urllib3/util/retry.py\", line 507, in increment\n",
      "    raise six.reraise(type(error), error, _stacktrace)\n",
      "  File \"/Users/rachelbryn/opt/anaconda3/envs/metis/lib/python3.8/site-packages/urllib3/packages/six.py\", line 770, in reraise\n",
      "    raise value\n",
      "  File \"/Users/rachelbryn/opt/anaconda3/envs/metis/lib/python3.8/site-packages/urllib3/connectionpool.py\", line 699, in urlopen\n",
      "    httplib_response = self._make_request(\n",
      "  File \"/Users/rachelbryn/opt/anaconda3/envs/metis/lib/python3.8/site-packages/urllib3/connectionpool.py\", line 394, in _make_request\n",
      "    conn.request(method, url, **httplib_request_kw)\n",
      "  File \"/Users/rachelbryn/opt/anaconda3/envs/metis/lib/python3.8/site-packages/urllib3/connection.py\", line 234, in request\n",
      "    super(HTTPConnection, self).request(method, url, body=body, headers=headers)\n",
      "  File \"/Users/rachelbryn/opt/anaconda3/envs/metis/lib/python3.8/http/client.py\", line 1252, in request\n",
      "    self._send_request(method, url, body, headers, encode_chunked)\n",
      "  File \"/Users/rachelbryn/opt/anaconda3/envs/metis/lib/python3.8/http/client.py\", line 1298, in _send_request\n",
      "    self.endheaders(body, encode_chunked=encode_chunked)\n",
      "  File \"/Users/rachelbryn/opt/anaconda3/envs/metis/lib/python3.8/http/client.py\", line 1247, in endheaders\n",
      "    self._send_output(message_body, encode_chunked=encode_chunked)\n",
      "  File \"/Users/rachelbryn/opt/anaconda3/envs/metis/lib/python3.8/http/client.py\", line 1007, in _send_output\n",
      "    self.send(msg)\n",
      "  File \"/Users/rachelbryn/opt/anaconda3/envs/metis/lib/python3.8/http/client.py\", line 947, in send\n",
      "    self.connect()\n",
      "  File \"/Users/rachelbryn/opt/anaconda3/envs/metis/lib/python3.8/site-packages/urllib3/connection.py\", line 200, in connect\n",
      "    conn = self._new_conn()\n",
      "  File \"/Users/rachelbryn/opt/anaconda3/envs/metis/lib/python3.8/site-packages/urllib3/connection.py\", line 181, in _new_conn\n",
      "    raise NewConnectionError(\n",
      "urllib3.exceptions.NewConnectionError: <urllib3.connection.HTTPConnection object at 0x1ba889580>: Failed to establish a new connection: [Errno 61] Connection refused\n",
      "GET http://localhost:9200/geonames/_count [status:N/A request:0.003s]\n",
      "Traceback (most recent call last):\n",
      "  File \"/Users/rachelbryn/opt/anaconda3/envs/metis/lib/python3.8/site-packages/urllib3/connection.py\", line 169, in _new_conn\n",
      "    conn = connection.create_connection(\n",
      "  File \"/Users/rachelbryn/opt/anaconda3/envs/metis/lib/python3.8/site-packages/urllib3/util/connection.py\", line 96, in create_connection\n",
      "    raise err\n",
      "  File \"/Users/rachelbryn/opt/anaconda3/envs/metis/lib/python3.8/site-packages/urllib3/util/connection.py\", line 86, in create_connection\n",
      "    sock.connect(sa)\n",
      "ConnectionRefusedError: [Errno 61] Connection refused\n",
      "\n",
      "During handling of the above exception, another exception occurred:\n",
      "\n",
      "Traceback (most recent call last):\n",
      "  File \"/Users/rachelbryn/opt/anaconda3/envs/metis/lib/python3.8/site-packages/elasticsearch/connection/http_urllib3.py\", line 114, in perform_request\n",
      "    response = self.pool.urlopen(method, url, body, retries=False, headers=self.headers, **kw)\n",
      "  File \"/Users/rachelbryn/opt/anaconda3/envs/metis/lib/python3.8/site-packages/urllib3/connectionpool.py\", line 755, in urlopen\n",
      "    retries = retries.increment(\n",
      "  File \"/Users/rachelbryn/opt/anaconda3/envs/metis/lib/python3.8/site-packages/urllib3/util/retry.py\", line 507, in increment\n",
      "    raise six.reraise(type(error), error, _stacktrace)\n",
      "  File \"/Users/rachelbryn/opt/anaconda3/envs/metis/lib/python3.8/site-packages/urllib3/packages/six.py\", line 770, in reraise\n",
      "    raise value\n",
      "  File \"/Users/rachelbryn/opt/anaconda3/envs/metis/lib/python3.8/site-packages/urllib3/connectionpool.py\", line 699, in urlopen\n",
      "    httplib_response = self._make_request(\n",
      "  File \"/Users/rachelbryn/opt/anaconda3/envs/metis/lib/python3.8/site-packages/urllib3/connectionpool.py\", line 394, in _make_request\n",
      "    conn.request(method, url, **httplib_request_kw)\n",
      "  File \"/Users/rachelbryn/opt/anaconda3/envs/metis/lib/python3.8/site-packages/urllib3/connection.py\", line 234, in request\n",
      "    super(HTTPConnection, self).request(method, url, body=body, headers=headers)\n",
      "  File \"/Users/rachelbryn/opt/anaconda3/envs/metis/lib/python3.8/http/client.py\", line 1252, in request\n",
      "    self._send_request(method, url, body, headers, encode_chunked)\n",
      "  File \"/Users/rachelbryn/opt/anaconda3/envs/metis/lib/python3.8/http/client.py\", line 1298, in _send_request\n",
      "    self.endheaders(body, encode_chunked=encode_chunked)\n",
      "  File \"/Users/rachelbryn/opt/anaconda3/envs/metis/lib/python3.8/http/client.py\", line 1247, in endheaders\n",
      "    self._send_output(message_body, encode_chunked=encode_chunked)\n",
      "  File \"/Users/rachelbryn/opt/anaconda3/envs/metis/lib/python3.8/http/client.py\", line 1007, in _send_output\n",
      "    self.send(msg)\n",
      "  File \"/Users/rachelbryn/opt/anaconda3/envs/metis/lib/python3.8/http/client.py\", line 947, in send\n",
      "    self.connect()\n",
      "  File \"/Users/rachelbryn/opt/anaconda3/envs/metis/lib/python3.8/site-packages/urllib3/connection.py\", line 200, in connect\n",
      "    conn = self._new_conn()\n",
      "  File \"/Users/rachelbryn/opt/anaconda3/envs/metis/lib/python3.8/site-packages/urllib3/connection.py\", line 181, in _new_conn\n",
      "    raise NewConnectionError(\n",
      "urllib3.exceptions.NewConnectionError: <urllib3.connection.HTTPConnection object at 0x1ba889610>: Failed to establish a new connection: [Errno 61] Connection refused\n"
     ]
    },
    {
     "name": "stderr",
     "output_type": "stream",
     "text": [
      "GET http://localhost:9200/geonames/_count [status:N/A request:0.005s]\n",
      "Traceback (most recent call last):\n",
      "  File \"/Users/rachelbryn/opt/anaconda3/envs/metis/lib/python3.8/site-packages/urllib3/connection.py\", line 169, in _new_conn\n",
      "    conn = connection.create_connection(\n",
      "  File \"/Users/rachelbryn/opt/anaconda3/envs/metis/lib/python3.8/site-packages/urllib3/util/connection.py\", line 96, in create_connection\n",
      "    raise err\n",
      "  File \"/Users/rachelbryn/opt/anaconda3/envs/metis/lib/python3.8/site-packages/urllib3/util/connection.py\", line 86, in create_connection\n",
      "    sock.connect(sa)\n",
      "ConnectionRefusedError: [Errno 61] Connection refused\n",
      "\n",
      "During handling of the above exception, another exception occurred:\n",
      "\n",
      "Traceback (most recent call last):\n",
      "  File \"/Users/rachelbryn/opt/anaconda3/envs/metis/lib/python3.8/site-packages/elasticsearch/connection/http_urllib3.py\", line 114, in perform_request\n",
      "    response = self.pool.urlopen(method, url, body, retries=False, headers=self.headers, **kw)\n",
      "  File \"/Users/rachelbryn/opt/anaconda3/envs/metis/lib/python3.8/site-packages/urllib3/connectionpool.py\", line 755, in urlopen\n",
      "    retries = retries.increment(\n",
      "  File \"/Users/rachelbryn/opt/anaconda3/envs/metis/lib/python3.8/site-packages/urllib3/util/retry.py\", line 507, in increment\n",
      "    raise six.reraise(type(error), error, _stacktrace)\n",
      "  File \"/Users/rachelbryn/opt/anaconda3/envs/metis/lib/python3.8/site-packages/urllib3/packages/six.py\", line 770, in reraise\n",
      "    raise value\n",
      "  File \"/Users/rachelbryn/opt/anaconda3/envs/metis/lib/python3.8/site-packages/urllib3/connectionpool.py\", line 699, in urlopen\n",
      "    httplib_response = self._make_request(\n",
      "  File \"/Users/rachelbryn/opt/anaconda3/envs/metis/lib/python3.8/site-packages/urllib3/connectionpool.py\", line 394, in _make_request\n",
      "    conn.request(method, url, **httplib_request_kw)\n",
      "  File \"/Users/rachelbryn/opt/anaconda3/envs/metis/lib/python3.8/site-packages/urllib3/connection.py\", line 234, in request\n",
      "    super(HTTPConnection, self).request(method, url, body=body, headers=headers)\n",
      "  File \"/Users/rachelbryn/opt/anaconda3/envs/metis/lib/python3.8/http/client.py\", line 1252, in request\n",
      "    self._send_request(method, url, body, headers, encode_chunked)\n",
      "  File \"/Users/rachelbryn/opt/anaconda3/envs/metis/lib/python3.8/http/client.py\", line 1298, in _send_request\n",
      "    self.endheaders(body, encode_chunked=encode_chunked)\n",
      "  File \"/Users/rachelbryn/opt/anaconda3/envs/metis/lib/python3.8/http/client.py\", line 1247, in endheaders\n",
      "    self._send_output(message_body, encode_chunked=encode_chunked)\n",
      "  File \"/Users/rachelbryn/opt/anaconda3/envs/metis/lib/python3.8/http/client.py\", line 1007, in _send_output\n",
      "    self.send(msg)\n",
      "  File \"/Users/rachelbryn/opt/anaconda3/envs/metis/lib/python3.8/http/client.py\", line 947, in send\n",
      "    self.connect()\n",
      "  File \"/Users/rachelbryn/opt/anaconda3/envs/metis/lib/python3.8/site-packages/urllib3/connection.py\", line 200, in connect\n",
      "    conn = self._new_conn()\n",
      "  File \"/Users/rachelbryn/opt/anaconda3/envs/metis/lib/python3.8/site-packages/urllib3/connection.py\", line 181, in _new_conn\n",
      "    raise NewConnectionError(\n",
      "urllib3.exceptions.NewConnectionError: <urllib3.connection.HTTPConnection object at 0x1ba889b20>: Failed to establish a new connection: [Errno 61] Connection refused\n"
     ]
    },
    {
     "ename": "IndexError",
     "evalue": "tuple index out of range",
     "output_type": "error",
     "traceback": [
      "\u001b[0;31m---------------------------------------------------------------------------\u001b[0m",
      "\u001b[0;31mConnectionRefusedError\u001b[0m                    Traceback (most recent call last)",
      "\u001b[0;32m~/opt/anaconda3/envs/metis/lib/python3.8/site-packages/urllib3/connection.py\u001b[0m in \u001b[0;36m_new_conn\u001b[0;34m(self)\u001b[0m\n\u001b[1;32m    168\u001b[0m         \u001b[0;32mtry\u001b[0m\u001b[0;34m:\u001b[0m\u001b[0;34m\u001b[0m\u001b[0;34m\u001b[0m\u001b[0m\n\u001b[0;32m--> 169\u001b[0;31m             conn = connection.create_connection(\n\u001b[0m\u001b[1;32m    170\u001b[0m                 \u001b[0;34m(\u001b[0m\u001b[0mself\u001b[0m\u001b[0;34m.\u001b[0m\u001b[0m_dns_host\u001b[0m\u001b[0;34m,\u001b[0m \u001b[0mself\u001b[0m\u001b[0;34m.\u001b[0m\u001b[0mport\u001b[0m\u001b[0;34m)\u001b[0m\u001b[0;34m,\u001b[0m \u001b[0mself\u001b[0m\u001b[0;34m.\u001b[0m\u001b[0mtimeout\u001b[0m\u001b[0;34m,\u001b[0m \u001b[0;34m**\u001b[0m\u001b[0mextra_kw\u001b[0m\u001b[0;34m\u001b[0m\u001b[0;34m\u001b[0m\u001b[0m\n",
      "\u001b[0;32m~/opt/anaconda3/envs/metis/lib/python3.8/site-packages/urllib3/util/connection.py\u001b[0m in \u001b[0;36mcreate_connection\u001b[0;34m(address, timeout, source_address, socket_options)\u001b[0m\n\u001b[1;32m     95\u001b[0m     \u001b[0;32mif\u001b[0m \u001b[0merr\u001b[0m \u001b[0;32mis\u001b[0m \u001b[0;32mnot\u001b[0m \u001b[0;32mNone\u001b[0m\u001b[0;34m:\u001b[0m\u001b[0;34m\u001b[0m\u001b[0;34m\u001b[0m\u001b[0m\n\u001b[0;32m---> 96\u001b[0;31m         \u001b[0;32mraise\u001b[0m \u001b[0merr\u001b[0m\u001b[0;34m\u001b[0m\u001b[0;34m\u001b[0m\u001b[0m\n\u001b[0m\u001b[1;32m     97\u001b[0m \u001b[0;34m\u001b[0m\u001b[0m\n",
      "\u001b[0;32m~/opt/anaconda3/envs/metis/lib/python3.8/site-packages/urllib3/util/connection.py\u001b[0m in \u001b[0;36mcreate_connection\u001b[0;34m(address, timeout, source_address, socket_options)\u001b[0m\n\u001b[1;32m     85\u001b[0m                 \u001b[0msock\u001b[0m\u001b[0;34m.\u001b[0m\u001b[0mbind\u001b[0m\u001b[0;34m(\u001b[0m\u001b[0msource_address\u001b[0m\u001b[0;34m)\u001b[0m\u001b[0;34m\u001b[0m\u001b[0;34m\u001b[0m\u001b[0m\n\u001b[0;32m---> 86\u001b[0;31m             \u001b[0msock\u001b[0m\u001b[0;34m.\u001b[0m\u001b[0mconnect\u001b[0m\u001b[0;34m(\u001b[0m\u001b[0msa\u001b[0m\u001b[0;34m)\u001b[0m\u001b[0;34m\u001b[0m\u001b[0;34m\u001b[0m\u001b[0m\n\u001b[0m\u001b[1;32m     87\u001b[0m             \u001b[0;32mreturn\u001b[0m \u001b[0msock\u001b[0m\u001b[0;34m\u001b[0m\u001b[0;34m\u001b[0m\u001b[0m\n",
      "\u001b[0;31mConnectionRefusedError\u001b[0m: [Errno 61] Connection refused",
      "\nDuring handling of the above exception, another exception occurred:\n",
      "\u001b[0;31mNewConnectionError\u001b[0m                        Traceback (most recent call last)",
      "\u001b[0;32m~/opt/anaconda3/envs/metis/lib/python3.8/site-packages/elasticsearch/connection/http_urllib3.py\u001b[0m in \u001b[0;36mperform_request\u001b[0;34m(self, method, url, params, body, timeout, ignore)\u001b[0m\n\u001b[1;32m    113\u001b[0m \u001b[0;34m\u001b[0m\u001b[0m\n\u001b[0;32m--> 114\u001b[0;31m             \u001b[0mresponse\u001b[0m \u001b[0;34m=\u001b[0m \u001b[0mself\u001b[0m\u001b[0;34m.\u001b[0m\u001b[0mpool\u001b[0m\u001b[0;34m.\u001b[0m\u001b[0murlopen\u001b[0m\u001b[0;34m(\u001b[0m\u001b[0mmethod\u001b[0m\u001b[0;34m,\u001b[0m \u001b[0murl\u001b[0m\u001b[0;34m,\u001b[0m \u001b[0mbody\u001b[0m\u001b[0;34m,\u001b[0m \u001b[0mretries\u001b[0m\u001b[0;34m=\u001b[0m\u001b[0;32mFalse\u001b[0m\u001b[0;34m,\u001b[0m \u001b[0mheaders\u001b[0m\u001b[0;34m=\u001b[0m\u001b[0mself\u001b[0m\u001b[0;34m.\u001b[0m\u001b[0mheaders\u001b[0m\u001b[0;34m,\u001b[0m \u001b[0;34m**\u001b[0m\u001b[0mkw\u001b[0m\u001b[0;34m)\u001b[0m\u001b[0;34m\u001b[0m\u001b[0;34m\u001b[0m\u001b[0m\n\u001b[0m\u001b[1;32m    115\u001b[0m             \u001b[0mduration\u001b[0m \u001b[0;34m=\u001b[0m \u001b[0mtime\u001b[0m\u001b[0;34m.\u001b[0m\u001b[0mtime\u001b[0m\u001b[0;34m(\u001b[0m\u001b[0;34m)\u001b[0m \u001b[0;34m-\u001b[0m \u001b[0mstart\u001b[0m\u001b[0;34m\u001b[0m\u001b[0;34m\u001b[0m\u001b[0m\n",
      "\u001b[0;32m~/opt/anaconda3/envs/metis/lib/python3.8/site-packages/urllib3/connectionpool.py\u001b[0m in \u001b[0;36murlopen\u001b[0;34m(self, method, url, body, headers, retries, redirect, assert_same_host, timeout, pool_timeout, release_conn, chunked, body_pos, **response_kw)\u001b[0m\n\u001b[1;32m    754\u001b[0m \u001b[0;34m\u001b[0m\u001b[0m\n\u001b[0;32m--> 755\u001b[0;31m             retries = retries.increment(\n\u001b[0m\u001b[1;32m    756\u001b[0m                 \u001b[0mmethod\u001b[0m\u001b[0;34m,\u001b[0m \u001b[0murl\u001b[0m\u001b[0;34m,\u001b[0m \u001b[0merror\u001b[0m\u001b[0;34m=\u001b[0m\u001b[0me\u001b[0m\u001b[0;34m,\u001b[0m \u001b[0m_pool\u001b[0m\u001b[0;34m=\u001b[0m\u001b[0mself\u001b[0m\u001b[0;34m,\u001b[0m \u001b[0m_stacktrace\u001b[0m\u001b[0;34m=\u001b[0m\u001b[0msys\u001b[0m\u001b[0;34m.\u001b[0m\u001b[0mexc_info\u001b[0m\u001b[0;34m(\u001b[0m\u001b[0;34m)\u001b[0m\u001b[0;34m[\u001b[0m\u001b[0;36m2\u001b[0m\u001b[0;34m]\u001b[0m\u001b[0;34m\u001b[0m\u001b[0;34m\u001b[0m\u001b[0m\n",
      "\u001b[0;32m~/opt/anaconda3/envs/metis/lib/python3.8/site-packages/urllib3/util/retry.py\u001b[0m in \u001b[0;36mincrement\u001b[0;34m(self, method, url, response, error, _pool, _stacktrace)\u001b[0m\n\u001b[1;32m    506\u001b[0m             \u001b[0;31m# Disabled, indicate to re-raise the error.\u001b[0m\u001b[0;34m\u001b[0m\u001b[0;34m\u001b[0m\u001b[0;34m\u001b[0m\u001b[0m\n\u001b[0;32m--> 507\u001b[0;31m             \u001b[0;32mraise\u001b[0m \u001b[0msix\u001b[0m\u001b[0;34m.\u001b[0m\u001b[0mreraise\u001b[0m\u001b[0;34m(\u001b[0m\u001b[0mtype\u001b[0m\u001b[0;34m(\u001b[0m\u001b[0merror\u001b[0m\u001b[0;34m)\u001b[0m\u001b[0;34m,\u001b[0m \u001b[0merror\u001b[0m\u001b[0;34m,\u001b[0m \u001b[0m_stacktrace\u001b[0m\u001b[0;34m)\u001b[0m\u001b[0;34m\u001b[0m\u001b[0;34m\u001b[0m\u001b[0m\n\u001b[0m\u001b[1;32m    508\u001b[0m \u001b[0;34m\u001b[0m\u001b[0m\n",
      "\u001b[0;32m~/opt/anaconda3/envs/metis/lib/python3.8/site-packages/urllib3/packages/six.py\u001b[0m in \u001b[0;36mreraise\u001b[0;34m(tp, value, tb)\u001b[0m\n\u001b[1;32m    769\u001b[0m                 \u001b[0;32mraise\u001b[0m \u001b[0mvalue\u001b[0m\u001b[0;34m.\u001b[0m\u001b[0mwith_traceback\u001b[0m\u001b[0;34m(\u001b[0m\u001b[0mtb\u001b[0m\u001b[0;34m)\u001b[0m\u001b[0;34m\u001b[0m\u001b[0;34m\u001b[0m\u001b[0m\n\u001b[0;32m--> 770\u001b[0;31m             \u001b[0;32mraise\u001b[0m \u001b[0mvalue\u001b[0m\u001b[0;34m\u001b[0m\u001b[0;34m\u001b[0m\u001b[0m\n\u001b[0m\u001b[1;32m    771\u001b[0m         \u001b[0;32mfinally\u001b[0m\u001b[0;34m:\u001b[0m\u001b[0;34m\u001b[0m\u001b[0;34m\u001b[0m\u001b[0m\n",
      "\u001b[0;32m~/opt/anaconda3/envs/metis/lib/python3.8/site-packages/urllib3/connectionpool.py\u001b[0m in \u001b[0;36murlopen\u001b[0;34m(self, method, url, body, headers, retries, redirect, assert_same_host, timeout, pool_timeout, release_conn, chunked, body_pos, **response_kw)\u001b[0m\n\u001b[1;32m    698\u001b[0m             \u001b[0;31m# Make the request on the httplib connection object.\u001b[0m\u001b[0;34m\u001b[0m\u001b[0;34m\u001b[0m\u001b[0;34m\u001b[0m\u001b[0m\n\u001b[0;32m--> 699\u001b[0;31m             httplib_response = self._make_request(\n\u001b[0m\u001b[1;32m    700\u001b[0m                 \u001b[0mconn\u001b[0m\u001b[0;34m,\u001b[0m\u001b[0;34m\u001b[0m\u001b[0;34m\u001b[0m\u001b[0m\n",
      "\u001b[0;32m~/opt/anaconda3/envs/metis/lib/python3.8/site-packages/urllib3/connectionpool.py\u001b[0m in \u001b[0;36m_make_request\u001b[0;34m(self, conn, method, url, timeout, chunked, **httplib_request_kw)\u001b[0m\n\u001b[1;32m    393\u001b[0m             \u001b[0;32melse\u001b[0m\u001b[0;34m:\u001b[0m\u001b[0;34m\u001b[0m\u001b[0;34m\u001b[0m\u001b[0m\n\u001b[0;32m--> 394\u001b[0;31m                 \u001b[0mconn\u001b[0m\u001b[0;34m.\u001b[0m\u001b[0mrequest\u001b[0m\u001b[0;34m(\u001b[0m\u001b[0mmethod\u001b[0m\u001b[0;34m,\u001b[0m \u001b[0murl\u001b[0m\u001b[0;34m,\u001b[0m \u001b[0;34m**\u001b[0m\u001b[0mhttplib_request_kw\u001b[0m\u001b[0;34m)\u001b[0m\u001b[0;34m\u001b[0m\u001b[0;34m\u001b[0m\u001b[0m\n\u001b[0m\u001b[1;32m    395\u001b[0m \u001b[0;34m\u001b[0m\u001b[0m\n",
      "\u001b[0;32m~/opt/anaconda3/envs/metis/lib/python3.8/site-packages/urllib3/connection.py\u001b[0m in \u001b[0;36mrequest\u001b[0;34m(self, method, url, body, headers)\u001b[0m\n\u001b[1;32m    233\u001b[0m             \u001b[0mheaders\u001b[0m\u001b[0;34m[\u001b[0m\u001b[0;34m\"User-Agent\"\u001b[0m\u001b[0;34m]\u001b[0m \u001b[0;34m=\u001b[0m \u001b[0m_get_default_user_agent\u001b[0m\u001b[0;34m(\u001b[0m\u001b[0;34m)\u001b[0m\u001b[0;34m\u001b[0m\u001b[0;34m\u001b[0m\u001b[0m\n\u001b[0;32m--> 234\u001b[0;31m         \u001b[0msuper\u001b[0m\u001b[0;34m(\u001b[0m\u001b[0mHTTPConnection\u001b[0m\u001b[0;34m,\u001b[0m \u001b[0mself\u001b[0m\u001b[0;34m)\u001b[0m\u001b[0;34m.\u001b[0m\u001b[0mrequest\u001b[0m\u001b[0;34m(\u001b[0m\u001b[0mmethod\u001b[0m\u001b[0;34m,\u001b[0m \u001b[0murl\u001b[0m\u001b[0;34m,\u001b[0m \u001b[0mbody\u001b[0m\u001b[0;34m=\u001b[0m\u001b[0mbody\u001b[0m\u001b[0;34m,\u001b[0m \u001b[0mheaders\u001b[0m\u001b[0;34m=\u001b[0m\u001b[0mheaders\u001b[0m\u001b[0;34m)\u001b[0m\u001b[0;34m\u001b[0m\u001b[0;34m\u001b[0m\u001b[0m\n\u001b[0m\u001b[1;32m    235\u001b[0m \u001b[0;34m\u001b[0m\u001b[0m\n",
      "\u001b[0;32m~/opt/anaconda3/envs/metis/lib/python3.8/http/client.py\u001b[0m in \u001b[0;36mrequest\u001b[0;34m(self, method, url, body, headers, encode_chunked)\u001b[0m\n\u001b[1;32m   1251\u001b[0m         \u001b[0;34m\"\"\"Send a complete request to the server.\"\"\"\u001b[0m\u001b[0;34m\u001b[0m\u001b[0;34m\u001b[0m\u001b[0m\n\u001b[0;32m-> 1252\u001b[0;31m         \u001b[0mself\u001b[0m\u001b[0;34m.\u001b[0m\u001b[0m_send_request\u001b[0m\u001b[0;34m(\u001b[0m\u001b[0mmethod\u001b[0m\u001b[0;34m,\u001b[0m \u001b[0murl\u001b[0m\u001b[0;34m,\u001b[0m \u001b[0mbody\u001b[0m\u001b[0;34m,\u001b[0m \u001b[0mheaders\u001b[0m\u001b[0;34m,\u001b[0m \u001b[0mencode_chunked\u001b[0m\u001b[0;34m)\u001b[0m\u001b[0;34m\u001b[0m\u001b[0;34m\u001b[0m\u001b[0m\n\u001b[0m\u001b[1;32m   1253\u001b[0m \u001b[0;34m\u001b[0m\u001b[0m\n",
      "\u001b[0;32m~/opt/anaconda3/envs/metis/lib/python3.8/http/client.py\u001b[0m in \u001b[0;36m_send_request\u001b[0;34m(self, method, url, body, headers, encode_chunked)\u001b[0m\n\u001b[1;32m   1297\u001b[0m             \u001b[0mbody\u001b[0m \u001b[0;34m=\u001b[0m \u001b[0m_encode\u001b[0m\u001b[0;34m(\u001b[0m\u001b[0mbody\u001b[0m\u001b[0;34m,\u001b[0m \u001b[0;34m'body'\u001b[0m\u001b[0;34m)\u001b[0m\u001b[0;34m\u001b[0m\u001b[0;34m\u001b[0m\u001b[0m\n\u001b[0;32m-> 1298\u001b[0;31m         \u001b[0mself\u001b[0m\u001b[0;34m.\u001b[0m\u001b[0mendheaders\u001b[0m\u001b[0;34m(\u001b[0m\u001b[0mbody\u001b[0m\u001b[0;34m,\u001b[0m \u001b[0mencode_chunked\u001b[0m\u001b[0;34m=\u001b[0m\u001b[0mencode_chunked\u001b[0m\u001b[0;34m)\u001b[0m\u001b[0;34m\u001b[0m\u001b[0;34m\u001b[0m\u001b[0m\n\u001b[0m\u001b[1;32m   1299\u001b[0m \u001b[0;34m\u001b[0m\u001b[0m\n",
      "\u001b[0;32m~/opt/anaconda3/envs/metis/lib/python3.8/http/client.py\u001b[0m in \u001b[0;36mendheaders\u001b[0;34m(self, message_body, encode_chunked)\u001b[0m\n\u001b[1;32m   1246\u001b[0m             \u001b[0;32mraise\u001b[0m \u001b[0mCannotSendHeader\u001b[0m\u001b[0;34m(\u001b[0m\u001b[0;34m)\u001b[0m\u001b[0;34m\u001b[0m\u001b[0;34m\u001b[0m\u001b[0m\n\u001b[0;32m-> 1247\u001b[0;31m         \u001b[0mself\u001b[0m\u001b[0;34m.\u001b[0m\u001b[0m_send_output\u001b[0m\u001b[0;34m(\u001b[0m\u001b[0mmessage_body\u001b[0m\u001b[0;34m,\u001b[0m \u001b[0mencode_chunked\u001b[0m\u001b[0;34m=\u001b[0m\u001b[0mencode_chunked\u001b[0m\u001b[0;34m)\u001b[0m\u001b[0;34m\u001b[0m\u001b[0;34m\u001b[0m\u001b[0m\n\u001b[0m\u001b[1;32m   1248\u001b[0m \u001b[0;34m\u001b[0m\u001b[0m\n",
      "\u001b[0;32m~/opt/anaconda3/envs/metis/lib/python3.8/http/client.py\u001b[0m in \u001b[0;36m_send_output\u001b[0;34m(self, message_body, encode_chunked)\u001b[0m\n\u001b[1;32m   1006\u001b[0m         \u001b[0;32mdel\u001b[0m \u001b[0mself\u001b[0m\u001b[0;34m.\u001b[0m\u001b[0m_buffer\u001b[0m\u001b[0;34m[\u001b[0m\u001b[0;34m:\u001b[0m\u001b[0;34m]\u001b[0m\u001b[0;34m\u001b[0m\u001b[0;34m\u001b[0m\u001b[0m\n\u001b[0;32m-> 1007\u001b[0;31m         \u001b[0mself\u001b[0m\u001b[0;34m.\u001b[0m\u001b[0msend\u001b[0m\u001b[0;34m(\u001b[0m\u001b[0mmsg\u001b[0m\u001b[0;34m)\u001b[0m\u001b[0;34m\u001b[0m\u001b[0;34m\u001b[0m\u001b[0m\n\u001b[0m\u001b[1;32m   1008\u001b[0m \u001b[0;34m\u001b[0m\u001b[0m\n",
      "\u001b[0;32m~/opt/anaconda3/envs/metis/lib/python3.8/http/client.py\u001b[0m in \u001b[0;36msend\u001b[0;34m(self, data)\u001b[0m\n\u001b[1;32m    946\u001b[0m             \u001b[0;32mif\u001b[0m \u001b[0mself\u001b[0m\u001b[0;34m.\u001b[0m\u001b[0mauto_open\u001b[0m\u001b[0;34m:\u001b[0m\u001b[0;34m\u001b[0m\u001b[0;34m\u001b[0m\u001b[0m\n\u001b[0;32m--> 947\u001b[0;31m                 \u001b[0mself\u001b[0m\u001b[0;34m.\u001b[0m\u001b[0mconnect\u001b[0m\u001b[0;34m(\u001b[0m\u001b[0;34m)\u001b[0m\u001b[0;34m\u001b[0m\u001b[0;34m\u001b[0m\u001b[0m\n\u001b[0m\u001b[1;32m    948\u001b[0m             \u001b[0;32melse\u001b[0m\u001b[0;34m:\u001b[0m\u001b[0;34m\u001b[0m\u001b[0;34m\u001b[0m\u001b[0m\n",
      "\u001b[0;32m~/opt/anaconda3/envs/metis/lib/python3.8/site-packages/urllib3/connection.py\u001b[0m in \u001b[0;36mconnect\u001b[0;34m(self)\u001b[0m\n\u001b[1;32m    199\u001b[0m     \u001b[0;32mdef\u001b[0m \u001b[0mconnect\u001b[0m\u001b[0;34m(\u001b[0m\u001b[0mself\u001b[0m\u001b[0;34m)\u001b[0m\u001b[0;34m:\u001b[0m\u001b[0;34m\u001b[0m\u001b[0;34m\u001b[0m\u001b[0m\n\u001b[0;32m--> 200\u001b[0;31m         \u001b[0mconn\u001b[0m \u001b[0;34m=\u001b[0m \u001b[0mself\u001b[0m\u001b[0;34m.\u001b[0m\u001b[0m_new_conn\u001b[0m\u001b[0;34m(\u001b[0m\u001b[0;34m)\u001b[0m\u001b[0;34m\u001b[0m\u001b[0;34m\u001b[0m\u001b[0m\n\u001b[0m\u001b[1;32m    201\u001b[0m         \u001b[0mself\u001b[0m\u001b[0;34m.\u001b[0m\u001b[0m_prepare_conn\u001b[0m\u001b[0;34m(\u001b[0m\u001b[0mconn\u001b[0m\u001b[0;34m)\u001b[0m\u001b[0;34m\u001b[0m\u001b[0;34m\u001b[0m\u001b[0m\n",
      "\u001b[0;32m~/opt/anaconda3/envs/metis/lib/python3.8/site-packages/urllib3/connection.py\u001b[0m in \u001b[0;36m_new_conn\u001b[0;34m(self)\u001b[0m\n\u001b[1;32m    180\u001b[0m         \u001b[0;32mexcept\u001b[0m \u001b[0mSocketError\u001b[0m \u001b[0;32mas\u001b[0m \u001b[0me\u001b[0m\u001b[0;34m:\u001b[0m\u001b[0;34m\u001b[0m\u001b[0;34m\u001b[0m\u001b[0m\n\u001b[0;32m--> 181\u001b[0;31m             raise NewConnectionError(\n\u001b[0m\u001b[1;32m    182\u001b[0m                 \u001b[0mself\u001b[0m\u001b[0;34m,\u001b[0m \u001b[0;34m\"Failed to establish a new connection: %s\"\u001b[0m \u001b[0;34m%\u001b[0m \u001b[0me\u001b[0m\u001b[0;34m\u001b[0m\u001b[0;34m\u001b[0m\u001b[0m\n",
      "\u001b[0;31mNewConnectionError\u001b[0m: <urllib3.connection.HTTPConnection object at 0x1ba889b20>: Failed to establish a new connection: [Errno 61] Connection refused",
      "\nDuring handling of the above exception, another exception occurred:\n",
      "\u001b[0;31mConnectionError\u001b[0m                           Traceback (most recent call last)",
      "\u001b[0;32m~/opt/anaconda3/envs/metis/lib/python3.8/site-packages/mordecai/geoparse.py\u001b[0m in \u001b[0;36m__init__\u001b[0;34m(self, nlp, es_hosts, es_port, es_ssl, es_auth, verbose, country_threshold, threads, progress, training, models_path, **kwargs)\u001b[0m\n\u001b[1;32m     70\u001b[0m             \u001b[0;31m# with nostderr():\u001b[0m\u001b[0;34m\u001b[0m\u001b[0;34m\u001b[0m\u001b[0;34m\u001b[0m\u001b[0m\n\u001b[0;32m---> 71\u001b[0;31m             \u001b[0mself\u001b[0m\u001b[0;34m.\u001b[0m\u001b[0mconn\u001b[0m\u001b[0;34m.\u001b[0m\u001b[0mcount\u001b[0m\u001b[0;34m(\u001b[0m\u001b[0;34m)\u001b[0m\u001b[0;34m\u001b[0m\u001b[0;34m\u001b[0m\u001b[0m\n\u001b[0m\u001b[1;32m     72\u001b[0m         \u001b[0;32mexcept\u001b[0m\u001b[0;34m:\u001b[0m\u001b[0;34m\u001b[0m\u001b[0;34m\u001b[0m\u001b[0m\n",
      "\u001b[0;32m~/opt/anaconda3/envs/metis/lib/python3.8/site-packages/elasticsearch_dsl/search.py\u001b[0m in \u001b[0;36mcount\u001b[0;34m(self)\u001b[0m\n\u001b[1;32m    582\u001b[0m         \u001b[0;31m# TODO: failed shards detection\u001b[0m\u001b[0;34m\u001b[0m\u001b[0;34m\u001b[0m\u001b[0;34m\u001b[0m\u001b[0m\n\u001b[0;32m--> 583\u001b[0;31m         return es.count(\n\u001b[0m\u001b[1;32m    584\u001b[0m             \u001b[0mindex\u001b[0m\u001b[0;34m=\u001b[0m\u001b[0mself\u001b[0m\u001b[0;34m.\u001b[0m\u001b[0m_index\u001b[0m\u001b[0;34m,\u001b[0m\u001b[0;34m\u001b[0m\u001b[0;34m\u001b[0m\u001b[0m\n",
      "\u001b[0;32m~/opt/anaconda3/envs/metis/lib/python3.8/site-packages/elasticsearch/client/utils.py\u001b[0m in \u001b[0;36m_wrapped\u001b[0;34m(*args, **kwargs)\u001b[0m\n\u001b[1;32m     72\u001b[0m                     \u001b[0mparams\u001b[0m\u001b[0;34m[\u001b[0m\u001b[0mp\u001b[0m\u001b[0;34m]\u001b[0m \u001b[0;34m=\u001b[0m \u001b[0mkwargs\u001b[0m\u001b[0;34m.\u001b[0m\u001b[0mpop\u001b[0m\u001b[0;34m(\u001b[0m\u001b[0mp\u001b[0m\u001b[0;34m)\u001b[0m\u001b[0;34m\u001b[0m\u001b[0;34m\u001b[0m\u001b[0m\n\u001b[0;32m---> 73\u001b[0;31m             \u001b[0;32mreturn\u001b[0m \u001b[0mfunc\u001b[0m\u001b[0;34m(\u001b[0m\u001b[0;34m*\u001b[0m\u001b[0margs\u001b[0m\u001b[0;34m,\u001b[0m \u001b[0mparams\u001b[0m\u001b[0;34m=\u001b[0m\u001b[0mparams\u001b[0m\u001b[0;34m,\u001b[0m \u001b[0;34m**\u001b[0m\u001b[0mkwargs\u001b[0m\u001b[0;34m)\u001b[0m\u001b[0;34m\u001b[0m\u001b[0;34m\u001b[0m\u001b[0m\n\u001b[0m\u001b[1;32m     74\u001b[0m         \u001b[0;32mreturn\u001b[0m \u001b[0m_wrapped\u001b[0m\u001b[0;34m\u001b[0m\u001b[0;34m\u001b[0m\u001b[0m\n",
      "\u001b[0;32m~/opt/anaconda3/envs/metis/lib/python3.8/site-packages/elasticsearch/client/__init__.py\u001b[0m in \u001b[0;36mcount\u001b[0;34m(self, index, doc_type, body, params)\u001b[0m\n\u001b[1;32m   1121\u001b[0m \u001b[0;34m\u001b[0m\u001b[0m\n\u001b[0;32m-> 1122\u001b[0;31m         return self.transport.perform_request('GET', _make_path(index,\n\u001b[0m\u001b[1;32m   1123\u001b[0m             doc_type, '_count'), params=params, body=body)\n",
      "\u001b[0;32m~/opt/anaconda3/envs/metis/lib/python3.8/site-packages/elasticsearch/transport.py\u001b[0m in \u001b[0;36mperform_request\u001b[0;34m(self, method, url, params, body)\u001b[0m\n\u001b[1;32m    311\u001b[0m             \u001b[0;32mtry\u001b[0m\u001b[0;34m:\u001b[0m\u001b[0;34m\u001b[0m\u001b[0;34m\u001b[0m\u001b[0m\n\u001b[0;32m--> 312\u001b[0;31m                 \u001b[0mstatus\u001b[0m\u001b[0;34m,\u001b[0m \u001b[0mheaders\u001b[0m\u001b[0;34m,\u001b[0m \u001b[0mdata\u001b[0m \u001b[0;34m=\u001b[0m \u001b[0mconnection\u001b[0m\u001b[0;34m.\u001b[0m\u001b[0mperform_request\u001b[0m\u001b[0;34m(\u001b[0m\u001b[0mmethod\u001b[0m\u001b[0;34m,\u001b[0m \u001b[0murl\u001b[0m\u001b[0;34m,\u001b[0m \u001b[0mparams\u001b[0m\u001b[0;34m,\u001b[0m \u001b[0mbody\u001b[0m\u001b[0;34m,\u001b[0m \u001b[0mignore\u001b[0m\u001b[0;34m=\u001b[0m\u001b[0mignore\u001b[0m\u001b[0;34m,\u001b[0m \u001b[0mtimeout\u001b[0m\u001b[0;34m=\u001b[0m\u001b[0mtimeout\u001b[0m\u001b[0;34m)\u001b[0m\u001b[0;34m\u001b[0m\u001b[0;34m\u001b[0m\u001b[0m\n\u001b[0m\u001b[1;32m    313\u001b[0m \u001b[0;34m\u001b[0m\u001b[0m\n",
      "\u001b[0;32m~/opt/anaconda3/envs/metis/lib/python3.8/site-packages/elasticsearch/connection/http_urllib3.py\u001b[0m in \u001b[0;36mperform_request\u001b[0;34m(self, method, url, params, body, timeout, ignore)\u001b[0m\n\u001b[1;32m    122\u001b[0m                 \u001b[0;32mraise\u001b[0m \u001b[0mConnectionTimeout\u001b[0m\u001b[0;34m(\u001b[0m\u001b[0;34m'TIMEOUT'\u001b[0m\u001b[0;34m,\u001b[0m \u001b[0mstr\u001b[0m\u001b[0;34m(\u001b[0m\u001b[0me\u001b[0m\u001b[0;34m)\u001b[0m\u001b[0;34m,\u001b[0m \u001b[0me\u001b[0m\u001b[0;34m)\u001b[0m\u001b[0;34m\u001b[0m\u001b[0;34m\u001b[0m\u001b[0m\n\u001b[0;32m--> 123\u001b[0;31m             \u001b[0;32mraise\u001b[0m \u001b[0mConnectionError\u001b[0m\u001b[0;34m(\u001b[0m\u001b[0;34m'N/A'\u001b[0m\u001b[0;34m,\u001b[0m \u001b[0mstr\u001b[0m\u001b[0;34m(\u001b[0m\u001b[0me\u001b[0m\u001b[0;34m)\u001b[0m\u001b[0;34m,\u001b[0m \u001b[0me\u001b[0m\u001b[0;34m)\u001b[0m\u001b[0;34m\u001b[0m\u001b[0;34m\u001b[0m\u001b[0m\n\u001b[0m\u001b[1;32m    124\u001b[0m \u001b[0;34m\u001b[0m\u001b[0m\n",
      "\u001b[0;31mConnectionError\u001b[0m: ConnectionError(<urllib3.connection.HTTPConnection object at 0x1ba889b20>: Failed to establish a new connection: [Errno 61] Connection refused) caused by: NewConnectionError(<urllib3.connection.HTTPConnection object at 0x1ba889b20>: Failed to establish a new connection: [Errno 61] Connection refused)",
      "\nDuring handling of the above exception, another exception occurred:\n",
      "\u001b[0;31mConnectionError\u001b[0m                           Traceback (most recent call last)",
      "    \u001b[0;31m[... skipping hidden 1 frame]\u001b[0m\n",
      "\u001b[0;32m<ipython-input-2-51192e9891e8>\u001b[0m in \u001b[0;36m<module>\u001b[0;34m\u001b[0m\n\u001b[0;32m----> 1\u001b[0;31m \u001b[0mGeoparser\u001b[0m\u001b[0;34m(\u001b[0m\u001b[0;34m)\u001b[0m\u001b[0;34m\u001b[0m\u001b[0;34m\u001b[0m\u001b[0m\n\u001b[0m\u001b[1;32m      2\u001b[0m \u001b[0;34m\u001b[0m\u001b[0m\n\u001b[1;32m      3\u001b[0m \u001b[0;31m# geo.geoparse(\"Eiffel Tower is located in Paris\")\u001b[0m\u001b[0;34m\u001b[0m\u001b[0;34m\u001b[0m\u001b[0;34m\u001b[0m\u001b[0m\n",
      "\u001b[0;32m~/opt/anaconda3/envs/metis/lib/python3.8/site-packages/mordecai/geoparse.py\u001b[0m in \u001b[0;36m__init__\u001b[0;34m(self, nlp, es_hosts, es_port, es_ssl, es_auth, verbose, country_threshold, threads, progress, training, models_path, **kwargs)\u001b[0m\n\u001b[1;32m     72\u001b[0m         \u001b[0;32mexcept\u001b[0m\u001b[0;34m:\u001b[0m\u001b[0;34m\u001b[0m\u001b[0;34m\u001b[0m\u001b[0m\n\u001b[0;32m---> 73\u001b[0;31m             raise ConnectionError(\"\"\"Could not establish contact with Elasticsearch at {0} on port {1}.\n\u001b[0m\u001b[1;32m     74\u001b[0m \u001b[0mAre\u001b[0m \u001b[0myou\u001b[0m \u001b[0msure\u001b[0m \u001b[0mit\u001b[0m\u001b[0;31m'\u001b[0m\u001b[0ms\u001b[0m \u001b[0mrunning\u001b[0m\u001b[0;31m?\u001b[0m\u001b[0;34m\u001b[0m\u001b[0;34m\u001b[0m\u001b[0m\n",
      "\u001b[0;31m<class 'str'>\u001b[0m: (<class 'IndexError'>, IndexError('tuple index out of range'))",
      "\nDuring handling of the above exception, another exception occurred:\n",
      "\u001b[0;31mIndexError\u001b[0m                                Traceback (most recent call last)",
      "    \u001b[0;31m[... skipping hidden 1 frame]\u001b[0m\n",
      "\u001b[0;32m~/opt/anaconda3/envs/metis/lib/python3.8/site-packages/IPython/core/interactiveshell.py\u001b[0m in \u001b[0;36mshowtraceback\u001b[0;34m(self, exc_tuple, filename, tb_offset, exception_only, running_compiled_code)\u001b[0m\n\u001b[1;32m   2047\u001b[0m                                             value, tb, tb_offset=tb_offset)\n\u001b[1;32m   2048\u001b[0m \u001b[0;34m\u001b[0m\u001b[0m\n\u001b[0;32m-> 2049\u001b[0;31m                     \u001b[0mself\u001b[0m\u001b[0;34m.\u001b[0m\u001b[0m_showtraceback\u001b[0m\u001b[0;34m(\u001b[0m\u001b[0metype\u001b[0m\u001b[0;34m,\u001b[0m \u001b[0mvalue\u001b[0m\u001b[0;34m,\u001b[0m \u001b[0mstb\u001b[0m\u001b[0;34m)\u001b[0m\u001b[0;34m\u001b[0m\u001b[0;34m\u001b[0m\u001b[0m\n\u001b[0m\u001b[1;32m   2050\u001b[0m                     \u001b[0;32mif\u001b[0m \u001b[0mself\u001b[0m\u001b[0;34m.\u001b[0m\u001b[0mcall_pdb\u001b[0m\u001b[0;34m:\u001b[0m\u001b[0;34m\u001b[0m\u001b[0;34m\u001b[0m\u001b[0m\n\u001b[1;32m   2051\u001b[0m                         \u001b[0;31m# drop into debugger\u001b[0m\u001b[0;34m\u001b[0m\u001b[0;34m\u001b[0m\u001b[0;34m\u001b[0m\u001b[0m\n",
      "\u001b[0;32m~/opt/anaconda3/envs/metis/lib/python3.8/site-packages/ipykernel/zmqshell.py\u001b[0m in \u001b[0;36m_showtraceback\u001b[0;34m(self, etype, evalue, stb)\u001b[0m\n\u001b[1;32m    547\u001b[0m             \u001b[0;34m'traceback'\u001b[0m \u001b[0;34m:\u001b[0m \u001b[0mstb\u001b[0m\u001b[0;34m,\u001b[0m\u001b[0;34m\u001b[0m\u001b[0;34m\u001b[0m\u001b[0m\n\u001b[1;32m    548\u001b[0m             \u001b[0;34m'ename'\u001b[0m \u001b[0;34m:\u001b[0m \u001b[0mstr\u001b[0m\u001b[0;34m(\u001b[0m\u001b[0metype\u001b[0m\u001b[0;34m.\u001b[0m\u001b[0m__name__\u001b[0m\u001b[0;34m)\u001b[0m\u001b[0;34m,\u001b[0m\u001b[0;34m\u001b[0m\u001b[0;34m\u001b[0m\u001b[0m\n\u001b[0;32m--> 549\u001b[0;31m             \u001b[0;34m'evalue'\u001b[0m \u001b[0;34m:\u001b[0m \u001b[0mpy3compat\u001b[0m\u001b[0;34m.\u001b[0m\u001b[0msafe_unicode\u001b[0m\u001b[0;34m(\u001b[0m\u001b[0mevalue\u001b[0m\u001b[0;34m)\u001b[0m\u001b[0;34m,\u001b[0m\u001b[0;34m\u001b[0m\u001b[0;34m\u001b[0m\u001b[0m\n\u001b[0m\u001b[1;32m    550\u001b[0m         }\n\u001b[1;32m    551\u001b[0m \u001b[0;34m\u001b[0m\u001b[0m\n",
      "\u001b[0;32m~/opt/anaconda3/envs/metis/lib/python3.8/site-packages/ipython_genutils/py3compat.py\u001b[0m in \u001b[0;36msafe_unicode\u001b[0;34m(e)\u001b[0m\n\u001b[1;32m     63\u001b[0m     \"\"\"\n\u001b[1;32m     64\u001b[0m     \u001b[0;32mtry\u001b[0m\u001b[0;34m:\u001b[0m\u001b[0;34m\u001b[0m\u001b[0;34m\u001b[0m\u001b[0m\n\u001b[0;32m---> 65\u001b[0;31m         \u001b[0;32mreturn\u001b[0m \u001b[0municode_type\u001b[0m\u001b[0;34m(\u001b[0m\u001b[0me\u001b[0m\u001b[0;34m)\u001b[0m\u001b[0;34m\u001b[0m\u001b[0;34m\u001b[0m\u001b[0m\n\u001b[0m\u001b[1;32m     66\u001b[0m     \u001b[0;32mexcept\u001b[0m \u001b[0mUnicodeError\u001b[0m\u001b[0;34m:\u001b[0m\u001b[0;34m\u001b[0m\u001b[0;34m\u001b[0m\u001b[0m\n\u001b[1;32m     67\u001b[0m         \u001b[0;32mpass\u001b[0m\u001b[0;34m\u001b[0m\u001b[0;34m\u001b[0m\u001b[0m\n",
      "\u001b[0;32m~/opt/anaconda3/envs/metis/lib/python3.8/site-packages/elasticsearch/exceptions.py\u001b[0m in \u001b[0;36m__str__\u001b[0;34m(self)\u001b[0m\n\u001b[1;32m     67\u001b[0m     \u001b[0;32mdef\u001b[0m \u001b[0m__str__\u001b[0m\u001b[0;34m(\u001b[0m\u001b[0mself\u001b[0m\u001b[0;34m)\u001b[0m\u001b[0;34m:\u001b[0m\u001b[0;34m\u001b[0m\u001b[0;34m\u001b[0m\u001b[0m\n\u001b[1;32m     68\u001b[0m         return 'ConnectionError(%s) caused by: %s(%s)' % (\n\u001b[0;32m---> 69\u001b[0;31m             self.error, self.info.__class__.__name__, self.info)\n\u001b[0m\u001b[1;32m     70\u001b[0m \u001b[0;34m\u001b[0m\u001b[0m\n\u001b[1;32m     71\u001b[0m \u001b[0;34m\u001b[0m\u001b[0m\n",
      "\u001b[0;32m~/opt/anaconda3/envs/metis/lib/python3.8/site-packages/elasticsearch/exceptions.py\u001b[0m in \u001b[0;36merror\u001b[0;34m(self)\u001b[0m\n\u001b[1;32m     42\u001b[0m     \u001b[0;32mdef\u001b[0m \u001b[0merror\u001b[0m\u001b[0;34m(\u001b[0m\u001b[0mself\u001b[0m\u001b[0;34m)\u001b[0m\u001b[0;34m:\u001b[0m\u001b[0;34m\u001b[0m\u001b[0;34m\u001b[0m\u001b[0m\n\u001b[1;32m     43\u001b[0m         \u001b[0;34m\"\"\" A string error message. \"\"\"\u001b[0m\u001b[0;34m\u001b[0m\u001b[0;34m\u001b[0m\u001b[0m\n\u001b[0;32m---> 44\u001b[0;31m         \u001b[0;32mreturn\u001b[0m \u001b[0mself\u001b[0m\u001b[0;34m.\u001b[0m\u001b[0margs\u001b[0m\u001b[0;34m[\u001b[0m\u001b[0;36m1\u001b[0m\u001b[0;34m]\u001b[0m\u001b[0;34m\u001b[0m\u001b[0;34m\u001b[0m\u001b[0m\n\u001b[0m\u001b[1;32m     45\u001b[0m \u001b[0;34m\u001b[0m\u001b[0m\n\u001b[1;32m     46\u001b[0m     \u001b[0;34m@\u001b[0m\u001b[0mproperty\u001b[0m\u001b[0;34m\u001b[0m\u001b[0;34m\u001b[0m\u001b[0m\n",
      "\u001b[0;31mIndexError\u001b[0m: tuple index out of range"
     ]
    }
   ],
   "source": [
    "Geoparser()\n",
    "\n",
    "# geo.geoparse(\"Eiffel Tower is located in Paris\")"
   ]
  },
  {
   "cell_type": "code",
   "execution_count": 25,
   "id": "d597fe38",
   "metadata": {
    "scrolled": true
   },
   "outputs": [
    {
     "ename": "NameError",
     "evalue": "name 'geo' is not defined",
     "output_type": "error",
     "traceback": [
      "\u001b[0;31m---------------------------------------------------------------------------\u001b[0m",
      "\u001b[0;31mNameError\u001b[0m                                 Traceback (most recent call last)",
      "\u001b[0;32m<ipython-input-25-425a9dc19237>\u001b[0m in \u001b[0;36m<module>\u001b[0;34m\u001b[0m\n\u001b[0;32m----> 1\u001b[0;31m \u001b[0mdf\u001b[0m\u001b[0;34m[\u001b[0m\u001b[0;34m\"geoparse\"\u001b[0m\u001b[0;34m]\u001b[0m \u001b[0;34m=\u001b[0m \u001b[0;34m[\u001b[0m\u001b[0mgeo\u001b[0m\u001b[0;34m.\u001b[0m\u001b[0mgeoparse\u001b[0m\u001b[0;34m(\u001b[0m\u001b[0mx\u001b[0m\u001b[0;34m)\u001b[0m \u001b[0;32mfor\u001b[0m \u001b[0mx\u001b[0m \u001b[0;32min\u001b[0m \u001b[0mHurricane_Tweets\u001b[0m\u001b[0;34m[\u001b[0m\u001b[0;34m\"Tweet\"\u001b[0m\u001b[0;34m]\u001b[0m\u001b[0;34m]\u001b[0m\u001b[0;34m\u001b[0m\u001b[0;34m\u001b[0m\u001b[0m\n\u001b[0m",
      "\u001b[0;32m<ipython-input-25-425a9dc19237>\u001b[0m in \u001b[0;36m<listcomp>\u001b[0;34m(.0)\u001b[0m\n\u001b[0;32m----> 1\u001b[0;31m \u001b[0mdf\u001b[0m\u001b[0;34m[\u001b[0m\u001b[0;34m\"geoparse\"\u001b[0m\u001b[0;34m]\u001b[0m \u001b[0;34m=\u001b[0m \u001b[0;34m[\u001b[0m\u001b[0mgeo\u001b[0m\u001b[0;34m.\u001b[0m\u001b[0mgeoparse\u001b[0m\u001b[0;34m(\u001b[0m\u001b[0mx\u001b[0m\u001b[0;34m)\u001b[0m \u001b[0;32mfor\u001b[0m \u001b[0mx\u001b[0m \u001b[0;32min\u001b[0m \u001b[0mHurricane_Tweets\u001b[0m\u001b[0;34m[\u001b[0m\u001b[0;34m\"Tweet\"\u001b[0m\u001b[0;34m]\u001b[0m\u001b[0;34m]\u001b[0m\u001b[0;34m\u001b[0m\u001b[0;34m\u001b[0m\u001b[0m\n\u001b[0m",
      "\u001b[0;31mNameError\u001b[0m: name 'geo' is not defined"
     ]
    }
   ],
   "source": [
    "df[\"geoparse\"] = [geo.geoparse(x) for x in Hurricane_Tweets[\"Tweet\"]]"
   ]
  },
  {
   "cell_type": "code",
   "execution_count": 45,
   "id": "f978ad38",
   "metadata": {},
   "outputs": [],
   "source": [
    "ef flat_df(df):\n",
    "    df_geo = df[df[\"geoparse\"].str.len() != 0]\n",
    "    df_geo = df_geo.explode('geoparse')\n",
    "    df_geo = pd.concat([df_geo.drop(['geoparse'], axis=1), df_geo['geoparse'].apply(pd.Series)], axis=1)\n",
    "    df_geo = pd.concat([df_geo.drop(['geo'], axis=1), df_geo['geo'].apply(pd.Series)], axis=1)\n",
    "    df_geo = df_geo[df_geo['lat'].notnull()]\n",
    "    df_geo.lat = df_geo.lat.astype(float)\n",
    "    df_geo.lon =df_geo.lon.astype(float)\n",
    "    return df_geo\n",
    "    \n",
    "df_clean = flat_df(df)"
   ]
  },
  {
   "cell_type": "markdown",
   "id": "85a287dd",
   "metadata": {},
   "source": [
    " \n",
    " "
   ]
  },
  {
   "cell_type": "markdown",
   "id": "36081f8a",
   "metadata": {},
   "source": [
    " "
   ]
  },
  {
   "cell_type": "markdown",
   "id": "75e2d2f1",
   "metadata": {},
   "source": [
    "<B> Below will be my attempt at geoparsing with basic Spacy NER: </B>"
   ]
  },
  {
   "cell_type": "code",
   "execution_count": 22,
   "id": "121ffd5a",
   "metadata": {},
   "outputs": [],
   "source": [
    "import spacy\n",
    "import os"
   ]
  },
  {
   "cell_type": "code",
   "execution_count": 21,
   "id": "97390a26",
   "metadata": {},
   "outputs": [],
   "source": [
    "nlp = spacy.load('en_core_web_sm')"
   ]
  },
  {
   "cell_type": "code",
   "execution_count": 56,
   "id": "85795e61",
   "metadata": {},
   "outputs": [],
   "source": [
    "import pandas as pd"
   ]
  },
  {
   "cell_type": "code",
   "execution_count": null,
   "id": "41ec0910",
   "metadata": {},
   "outputs": [],
   "source": []
  },
  {
   "cell_type": "code",
   "execution_count": 122,
   "id": "1813bdff",
   "metadata": {},
   "outputs": [],
   "source": [
    "# TXT_DIR = 'Tweets'\n",
    " \n",
    "nlp = spacy.load('en_core_web_sm')\n",
    "places = []\n",
    " \n",
    "# for fn in os.listdir(TXT_DIR):\n",
    "    # print(f'Processing {fn}')\n",
    "    # with open(f'{TXT_DIR}/{fn}') as f:\n",
    "        #tweets_df = pd.read_csv(fn, header = \"infer\", lineterminator='\\n')\n",
    "for tweet in Hurricane_Tweets_Cleaned_NaN[\"Tweet\"]:\n",
    "            # print(type(tweet))\n",
    "    doc = nlp(tweet)\n",
    "    places.extend([[ent.text, ent.start, ent.end] for ent in doc.ents if ent.label_ in ['GPE', 'LOC']])"
   ]
  },
  {
   "cell_type": "code",
   "execution_count": 133,
   "id": "1be06f8a",
   "metadata": {},
   "outputs": [],
   "source": [
    "\n",
    "df = pd.read_csv('places.csv')\n",
    " "
   ]
  },
  {
   "cell_type": "code",
   "execution_count": 134,
   "id": "8a4badcd",
   "metadata": {},
   "outputs": [],
   "source": [
    "def to_drop(place):\n",
    "    if not all(c.isalpha() or c.isspace() for c in place) or place.islower():\n",
    "        return True\n",
    "    else:\n",
    "        return False\n",
    " "
   ]
  },
  {
   "cell_type": "code",
   "execution_count": 135,
   "id": "f96a078c",
   "metadata": {},
   "outputs": [],
   "source": [
    "df['to_drop'] = df.place.map(to_drop)\n",
    " \n",
    "df_cleaned_places = df[df.to_drop==False]\n",
    "df_cleaned_places.to_csv('cleaned_places.csv', index=False)\n",
    " \n",
    "unique_places = df_cleaned_places.place.unique()\n",
    "df_unique_places = pd.DataFrame(unique_places)\n",
    "df_unique_places.to_csv('unique_places.csv', index=False)"
   ]
  },
  {
   "cell_type": "code",
   "execution_count": 128,
   "id": "f314e48e",
   "metadata": {},
   "outputs": [],
   "source": []
  },
  {
   "cell_type": "code",
   "execution_count": null,
   "id": "0e9a8d2c",
   "metadata": {},
   "outputs": [],
   "source": []
  },
  {
   "cell_type": "code",
   "execution_count": 130,
   "id": "d7d5c153",
   "metadata": {},
   "outputs": [],
   "source": [
    "tweet_places.to_csv('places.csv', index=False)"
   ]
  },
  {
   "cell_type": "code",
   "execution_count": 52,
   "id": "9397ef2b",
   "metadata": {},
   "outputs": [],
   "source": [
    "nlp.max_length= 50000000"
   ]
  },
  {
   "cell_type": "code",
   "execution_count": null,
   "id": "ce65f058",
   "metadata": {},
   "outputs": [],
   "source": []
  },
  {
   "cell_type": "code",
   "execution_count": null,
   "id": "05d3016a",
   "metadata": {},
   "outputs": [],
   "source": []
  },
  {
   "cell_type": "markdown",
   "id": "2c1dea10",
   "metadata": {},
   "source": [
    "<B> Below will be my attempt at geoparsing with basic GEOTEXT FROM MIT (https://github.com/elyase/geotext): </B>"
   ]
  },
  {
   "cell_type": "code",
   "execution_count": 5,
   "id": "364caf3d",
   "metadata": {},
   "outputs": [
    {
     "name": "stdout",
     "output_type": "stream",
     "text": [
      "Collecting https://github.com/elyase/geotext/archive/master.zip\n",
      "  Downloading https://github.com/elyase/geotext/archive/master.zip\n",
      "\u001b[K     | 2.3 MB 822 kB/s\n",
      "\u001b[?25hBuilding wheels for collected packages: geotext\n",
      "  Building wheel for geotext (setup.py) ... \u001b[?25ldone\n",
      "\u001b[?25h  Created wheel for geotext: filename=geotext-0.3.0-py2.py3-none-any.whl size=2272451 sha256=22fbd22ce7c0fec0028951bcc815a0185ee830701eda59e788176dc6f46b6900\n",
      "  Stored in directory: /private/var/folders/gg/2mbbfm3s611369mqfn821g8h0000gn/T/pip-ephem-wheel-cache-s4bbowc0/wheels/e7/a5/8c/3285a988c40b743f5f24ec003e42cad17d1ea762873b559b31\n",
      "Successfully built geotext\n",
      "Installing collected packages: geotext\n",
      "Successfully installed geotext-0.3.0\n",
      "Note: you may need to restart the kernel to use updated packages.\n"
     ]
    }
   ],
   "source": [
    "pip install https://github.com/elyase/geotext/archive/master.zip"
   ]
  },
  {
   "cell_type": "code",
   "execution_count": 3,
   "id": "6d82bac4",
   "metadata": {},
   "outputs": [],
   "source": [
    "from geotext import GeoText"
   ]
  },
  {
   "cell_type": "code",
   "execution_count": 13,
   "id": "0159d54d",
   "metadata": {},
   "outputs": [
    {
     "data": {
      "text/plain": [
       "['London']"
      ]
     },
     "execution_count": 13,
     "metadata": {},
     "output_type": "execute_result"
    }
   ],
   "source": [
    "places = GeoText(\"London is a great city\")\n",
    "places.cities"
   ]
  },
  {
   "cell_type": "code",
   "execution_count": 5,
   "id": "d37b0eec",
   "metadata": {},
   "outputs": [],
   "source": []
  },
  {
   "cell_type": "code",
   "execution_count": 6,
   "id": "8af3df9c",
   "metadata": {},
   "outputs": [
    {
     "data": {
      "text/plain": [
       "OrderedDict([('US', 2), ('CN', 1)])"
      ]
     },
     "execution_count": 6,
     "metadata": {},
     "output_type": "execute_result"
    }
   ],
   "source": []
  },
  {
   "cell_type": "markdown",
   "id": "1f3a74b8",
   "metadata": {},
   "source": [
    "<b> Below will be another attempt using Geocoding from (https://github.com/shakasom/geocoding):</b>"
   ]
  },
  {
   "cell_type": "code",
   "execution_count": null,
   "id": "29d3a706",
   "metadata": {},
   "outputs": [],
   "source": []
  },
  {
   "cell_type": "code",
   "execution_count": 18,
   "id": "8d515025",
   "metadata": {},
   "outputs": [],
   "source": [
    "from geopy.geocoders import Nominatim\n",
    "from geopy.extra.rate_limiter import RateLimiter\n",
    "import matplotlib.pyplot as plt\n",
    "import folium\n",
    "from folium.plugins import FastMarkerCluster"
   ]
  },
  {
   "cell_type": "code",
   "execution_count": null,
   "id": "849a2047",
   "metadata": {},
   "outputs": [],
   "source": []
  },
  {
   "cell_type": "code",
   "execution_count": null,
   "id": "0a417514",
   "metadata": {},
   "outputs": [],
   "source": []
  },
  {
   "cell_type": "markdown",
   "id": "e8921540",
   "metadata": {},
   "source": [
    " \n",
    " \n",
    " \n",
    " "
   ]
  },
  {
   "cell_type": "markdown",
   "id": "483cb7fb",
   "metadata": {},
   "source": [
    "  "
   ]
  }
 ],
 "metadata": {
  "kernelspec": {
   "display_name": "Python 3",
   "language": "python",
   "name": "python3"
  },
  "language_info": {
   "codemirror_mode": {
    "name": "ipython",
    "version": 3
   },
   "file_extension": ".py",
   "mimetype": "text/x-python",
   "name": "python",
   "nbconvert_exporter": "python",
   "pygments_lexer": "ipython3",
   "version": "3.8.10"
  }
 },
 "nbformat": 4,
 "nbformat_minor": 5
}
